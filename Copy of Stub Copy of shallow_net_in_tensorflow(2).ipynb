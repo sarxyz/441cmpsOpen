{
 "cells": [
  {
   "cell_type": "markdown",
   "metadata": {
    "id": "hTQXL_NyQja-"
   },
   "source": [
    "# Shallow Neural Network in TensorFlow"
   ]
  },
  {
   "cell_type": "markdown",
   "metadata": {
    "id": "cKjUR2u6QjbA"
   },
   "source": [
    "Build a shallow neural network to classify handwritten digits"
   ]
  },
  {
   "cell_type": "markdown",
   "metadata": {
    "id": "_ud2tSANQjbA"
   },
   "source": [
    "[![Open In Colab](https://colab.research.google.com/assets/colab-badge.svg)](https://colab.research.google.com/github/jonkrohn/DLTFpT/blob/master/notebooks/shallow_net_in_tensorflow.ipynb)"
   ]
  },
  {
   "cell_type": "markdown",
   "metadata": {
    "id": "2-KD05zrQjbB"
   },
   "source": [
    "#### Load dependencies"
   ]
  },
  {
   "cell_type": "code",
   "execution_count": null,
   "metadata": {
    "id": "JUcdmU40QjbC",
    "scrolled": true
   },
   "outputs": [],
   "source": [
    "import tensorflow\n",
    "from tensorflow.keras.datasets import mnist\n",
    "from tensorflow.keras.utils import to_categorical\n",
    "from tensorflow.keras.models import Sequential\n",
    "from tensorflow.keras.layers import Dense\n",
    "from tensorflow.keras.optimizers import SGD\n",
    "from matplotlib import pyplot as plt"
   ]
  },
  {
   "cell_type": "markdown",
   "metadata": {
    "id": "s5M9s50KQjbD"
   },
   "source": [
    "#### Load data"
   ]
  },
  {
   "cell_type": "markdown",
   "metadata": {
    "id": "jVREN6OnQjbL"
   },
   "source": [
    "#### Preprocess data"
   ]
  },
  {
   "cell_type": "markdown",
   "metadata": {
    "id": "EUnpsbhZQjbM"
   },
   "source": [
    "#### Design neural network architecture"
   ]
  },
  {
   "cell_type": "markdown",
   "metadata": {
    "id": "NrpLJutJQjbN"
   },
   "source": [
    "#### Configure model"
   ]
  },
  {
   "cell_type": "markdown",
   "metadata": {
    "id": "l-YByY2vQjbN"
   },
   "source": [
    "#### Train!"
   ]
  },
  {
   "cell_type": "markdown",
   "metadata": {
    "id": "MYDWxB1GQjbO"
   },
   "source": [
    "#### Evaluating model performance"
   ]
  },
  {
   "cell_type": "markdown",
   "metadata": {
    "id": "ziN3XGbeQjbO"
   },
   "source": [
    "#### Performing inference"
   ]
  }
 ],
 "metadata": {
  "colab": {
   "collapsed_sections": [],
   "name": "Copy of Stub Copy of shallow_net_in_tensorflow.ipynb",
   "provenance": [
    {
     "file_id": "1d_zIUJrjFaid0_dioCP8zp5euKQK5i_h",
     "timestamp": 1628538476419
    },
    {
     "file_id": "1KVS06B0_NID8m5e-XbHcSZt3sVPx3_mn",
     "timestamp": 1628367498216
    },
    {
     "file_id": "https://github.com/jonkrohn/DLTFpT/blob/master/notebooks/shallow_net_in_tensorflow.ipynb",
     "timestamp": 1628367464908
    }
   ]
  },
  "kernelspec": {
   "display_name": "Python 3",
   "language": "python",
   "name": "python3"
  },
  "language_info": {
   "codemirror_mode": {
    "name": "ipython",
    "version": 3
   },
   "file_extension": ".py",
   "mimetype": "text/x-python",
   "name": "python",
   "nbconvert_exporter": "python",
   "pygments_lexer": "ipython3",
   "version": "3.7.6"
  }
 },
 "nbformat": 4,
 "nbformat_minor": 1
}
