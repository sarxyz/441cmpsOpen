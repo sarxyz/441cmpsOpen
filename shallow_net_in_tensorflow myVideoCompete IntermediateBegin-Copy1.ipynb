{
 "cells": [
  {
   "cell_type": "markdown",
   "metadata": {
    "id": "rwtonsX4NZ26"
   },
   "source": [
    "# shallow_net_in_tensorflow myVideoCompete IntermediateBegin"
   ]
  },
  {
   "cell_type": "markdown",
   "metadata": {
    "id": "tiv5mGzfNZ2_"
   },
   "source": [
    "Build a shallow neural network to classify handwritten digits"
   ]
  },
  {
   "cell_type": "markdown",
   "metadata": {
    "id": "VLWFWUi6NZ2_"
   },
   "source": [
    "[![Open In Colab](https://colab.research.google.com/assets/colab-badge.svg)](https://colab.research.google.com/github/jonkrohn/DLTFpT/blob/master/notebooks/shallow_net_in_tensorflow.ipynb)"
   ]
  },
  {
   "cell_type": "markdown",
   "metadata": {
    "id": "tr-bYJfHNZ3A"
   },
   "source": [
    "#### Load dependencies"
   ]
  },
  {
   "cell_type": "code",
   "execution_count": 1,
   "metadata": {
    "executionInfo": {
     "elapsed": 275896,
     "status": "ok",
     "timestamp": 1617715068666,
     "user": {
      "displayName": "Steele Russell",
      "photoUrl": "https://lh3.googleusercontent.com/a-/AOh14GgDAWJJ1_t0KxSDz4AP23E7GOs608xo6StSUqoF=s64",
      "userId": "00642755971909510180"
     },
     "user_tz": 300
    },
    "id": "57oSfUG6NZ3A",
    "scrolled": true
   },
   "outputs": [],
   "source": [
    "import tensorflow\n",
    "from tensorflow.keras.datasets import mnist\n",
    "from tensorflow.keras.utils import to_categorical\n",
    "from tensorflow.keras.models import Sequential\n",
    "from tensorflow.keras.layers import Dense\n",
    "from tensorflow.keras.optimizers import SGD\n",
    "from matplotlib import pyplot as plt"
   ]
  },
  {
   "cell_type": "markdown",
   "metadata": {
    "id": "aNQneCODNZ3B"
   },
   "source": [
    "#### Load data"
   ]
  },
  {
   "cell_type": "code",
   "execution_count": 2,
   "metadata": {
    "executionInfo": {
     "elapsed": 276273,
     "status": "ok",
     "timestamp": 1617715069052,
     "user": {
      "displayName": "Steele Russell",
      "photoUrl": "https://lh3.googleusercontent.com/a-/AOh14GgDAWJJ1_t0KxSDz4AP23E7GOs608xo6StSUqoF=s64",
      "userId": "00642755971909510180"
     },
     "user_tz": 300
    },
    "id": "B04C1t0LNZ3B",
    "scrolled": true
   },
   "outputs": [],
   "source": [
    "(X_train, y_train), (X_valid, y_valid) = mnist.load_data()"
   ]
  },
  {
   "cell_type": "code",
   "execution_count": 3,
   "metadata": {
    "colab": {
     "base_uri": "https://localhost:8080/"
    },
    "executionInfo": {
     "elapsed": 276269,
     "status": "ok",
     "timestamp": 1617715069053,
     "user": {
      "displayName": "Steele Russell",
      "photoUrl": "https://lh3.googleusercontent.com/a-/AOh14GgDAWJJ1_t0KxSDz4AP23E7GOs608xo6StSUqoF=s64",
      "userId": "00642755971909510180"
     },
     "user_tz": 300
    },
    "id": "kfkHqqZFNZ3B",
    "outputId": "4bf965a5-03db-4f8c-8553-d9683ddbcfbb"
   },
   "outputs": [
    {
     "data": {
      "text/plain": [
       "(60000, 28, 28)"
      ]
     },
     "execution_count": 3,
     "metadata": {},
     "output_type": "execute_result"
    }
   ],
   "source": [
    "X_train.shape"
   ]
  },
  {
   "cell_type": "code",
   "execution_count": 4,
   "metadata": {
    "colab": {
     "base_uri": "https://localhost:8080/"
    },
    "executionInfo": {
     "elapsed": 276266,
     "status": "ok",
     "timestamp": 1617715069054,
     "user": {
      "displayName": "Steele Russell",
      "photoUrl": "https://lh3.googleusercontent.com/a-/AOh14GgDAWJJ1_t0KxSDz4AP23E7GOs608xo6StSUqoF=s64",
      "userId": "00642755971909510180"
     },
     "user_tz": 300
    },
    "id": "m3ZJzGrNNZ3C",
    "outputId": "30f0a45a-97b0-4455-bd80-e1b6b3822fac"
   },
   "outputs": [
    {
     "data": {
      "text/plain": [
       "(60000,)"
      ]
     },
     "execution_count": 4,
     "metadata": {},
     "output_type": "execute_result"
    }
   ],
   "source": [
    "y_train.shape"
   ]
  },
  {
   "cell_type": "code",
   "execution_count": 5,
   "metadata": {
    "colab": {
     "base_uri": "https://localhost:8080/"
    },
    "executionInfo": {
     "elapsed": 276382,
     "status": "ok",
     "timestamp": 1617715069175,
     "user": {
      "displayName": "Steele Russell",
      "photoUrl": "https://lh3.googleusercontent.com/a-/AOh14GgDAWJJ1_t0KxSDz4AP23E7GOs608xo6StSUqoF=s64",
      "userId": "00642755971909510180"
     },
     "user_tz": 300
    },
    "id": "htdgUCwHNZ3C",
    "outputId": "8c23a34f-b716-47ad-f77d-bccaf8c45931"
   },
   "outputs": [
    {
     "data": {
      "text/plain": [
       "array([5, 0, 4, 1, 9, 2, 1, 3, 1, 4, 3, 5], dtype=uint8)"
      ]
     },
     "execution_count": 5,
     "metadata": {},
     "output_type": "execute_result"
    }
   ],
   "source": [
    "y_train[0:12]"
   ]
  },
  {
   "cell_type": "code",
   "execution_count": 6,
   "metadata": {
    "colab": {
     "base_uri": "https://localhost:8080/",
     "height": 369
    },
    "executionInfo": {
     "elapsed": 278126,
     "status": "ok",
     "timestamp": 1617715070923,
     "user": {
      "displayName": "Steele Russell",
      "photoUrl": "https://lh3.googleusercontent.com/a-/AOh14GgDAWJJ1_t0KxSDz4AP23E7GOs608xo6StSUqoF=s64",
      "userId": "00642755971909510180"
     },
     "user_tz": 300
    },
    "id": "LV8e0zIYNZ3D",
    "outputId": "c2138c0c-8ad9-4447-ee80-227e3b05657b"
   },
   "outputs": [
    {
     "data": {
      "image/png": "[encoded data removed]",
      "text/plain": [
       "<Figure size 360x360 with 12 Axes>"
      ]
     },
     "metadata": {
      "needs_background": "light"
     },
     "output_type": "display_data"
    }
   ],
   "source": [
    "plt.figure(figsize=(5,5))\n",
    "for k in range(12):\n",
    "    plt.subplot(4, 3, k+1)\n",
    "    plt.imshow(X_train[k], cmap='Greys')\n",
    "    plt.axis('on')\n",
    "plt.tight_layout()\n",
    "plt.show()"
   ]
  },
  {
   "cell_type": "code",
   "execution_count": 7,
   "metadata": {
    "colab": {
     "base_uri": "https://localhost:8080/"
    },
    "executionInfo": {
     "elapsed": 278122,
     "status": "ok",
     "timestamp": 1617715070924,
     "user": {
      "displayName": "Steele Russell",
      "photoUrl": "https://lh3.googleusercontent.com/a-/AOh14GgDAWJJ1_t0KxSDz4AP23E7GOs608xo6StSUqoF=s64",
      "userId": "00642755971909510180"
     },
     "user_tz": 300
    },
    "id": "rWsj0okXNZ3D",
    "outputId": "93dab604-6599-4c6b-c37f-d5b0927f3909"
   },
   "outputs": [
    {
     "data": {
      "text/plain": [
       "(10000, 28, 28)"
      ]
     },
     "execution_count": 7,
     "metadata": {},
     "output_type": "execute_result"
    }
   ],
   "source": [
    "X_valid.shape"
   ]
  },
  {
   "cell_type": "code",
   "execution_count": 8,
   "metadata": {
    "colab": {
     "base_uri": "https://localhost:8080/"
    },
    "executionInfo": {
     "elapsed": 278119,
     "status": "ok",
     "timestamp": 1617715070925,
     "user": {
      "displayName": "Steele Russell",
      "photoUrl": "https://lh3.googleusercontent.com/a-/AOh14GgDAWJJ1_t0KxSDz4AP23E7GOs608xo6StSUqoF=s64",
      "userId": "00642755971909510180"
     },
     "user_tz": 300
    },
    "id": "g00w7qZGNZ3D",
    "outputId": "3b24ba76-b5f5-49ff-e44f-ee3d37ede3ff"
   },
   "outputs": [
    {
     "data": {
      "text/plain": [
       "(10000,)"
      ]
     },
     "execution_count": 8,
     "metadata": {},
     "output_type": "execute_result"
    }
   ],
   "source": [
    "y_valid.shape"
   ]
  },
  {
   "cell_type": "code",
   "execution_count": 9,
   "metadata": {
    "colab": {
     "base_uri": "https://localhost:8080/",
     "height": 283
    },
    "executionInfo": {
     "elapsed": 278395,
     "status": "ok",
     "timestamp": 1617715071206,
     "user": {
      "displayName": "Steele Russell",
      "photoUrl": "https://lh3.googleusercontent.com/a-/AOh14GgDAWJJ1_t0KxSDz4AP23E7GOs608xo6StSUqoF=s64",
      "userId": "00642755971909510180"
     },
     "user_tz": 300
    },
    "id": "ll0jmqLENZ3D",
    "outputId": "98145563-926e-4d16-c119-a8c11ff7e8cc"
   },
   "outputs": [
    {
     "data": {
      "text/plain": [
       "<matplotlib.image.AxesImage at 0x2051bc04128>"
      ]
     },
     "execution_count": 9,
     "metadata": {},
     "output_type": "execute_result"
    },
    {
     "data": {
      "image/png": "[encoded data removed]",
      "text/plain": [
       "<Figure size 432x288 with 1 Axes>"
      ]
     },
     "metadata": {
      "needs_background": "light"
     },
     "output_type": "display_data"
    }
   ],
   "source": [
    "plt.imshow(X_valid[1], cmap='Greys')"
   ]
  },
  {
   "cell_type": "code",
   "execution_count": 10,
   "metadata": {
    "colab": {
     "base_uri": "https://localhost:8080/"
    },
    "executionInfo": {
     "elapsed": 278392,
     "status": "ok",
     "timestamp": 1617715071207,
     "user": {
      "displayName": "Steele Russell",
      "photoUrl": "https://lh3.googleusercontent.com/a-/AOh14GgDAWJJ1_t0KxSDz4AP23E7GOs608xo6StSUqoF=s64",
      "userId": "00642755971909510180"
     },
     "user_tz": 300
    },
    "id": "n2ciTXwhNZ3E",
    "outputId": "aff30e15-a922-4b9d-a2a2-930ea82f0d90"
   },
   "outputs": [
    {
     "data": {
      "text/plain": [
       "array([[  0,   0,   0,   0,   0,   0,   0,   0,   0,   0,   0,   0,   0,\n",
       "          0,   0,   0,   0,   0,   0,   0,   0,   0,   0,   0,   0,   0,\n",
       "          0,   0],\n",
       "       [  0,   0,   0,   0,   0,   0,   0,   0,   0,   0,   0,   0,   0,\n",
       "          0,   0,   0,   0,   0,   0,   0,   0,   0,   0,   0,   0,   0,\n",
       "          0,   0],\n",
       "       [  0,   0,   0,   0,   0,   0,   0,   0,   0,   0,   0,   0,   0,\n",
       "          0,   0,   0,   0,   0,   0,   0,   0,   0,   0,   0,   0,   0,\n",
       "          0,   0],\n",
       "       [  0,   0,   0,   0,   0,   0,   0,   0,   0,   0, 116, 125, 171,\n",
       "        255, 255, 150,  93,   0,   0,   0,   0,   0,   0,   0,   0,   0,\n",
       "          0,   0],\n",
       "       [  0,   0,   0,   0,   0,   0,   0,   0,   0, 169, 253, 253, 253,\n",
       "        253, 253, 253, 218,  30,   0,   0,   0,   0,   0,   0,   0,   0,\n",
       "          0,   0],\n",
       "       [  0,   0,   0,   0,   0,   0,   0,   0, 169, 253, 253, 253, 213,\n",
       "        142, 176, 253, 253, 122,   0,   0,   0,   0,   0,   0,   0,   0,\n",
       "          0,   0],\n",
       "       [  0,   0,   0,   0,   0,   0,   0,  52, 250, 253, 210,  32,  12,\n",
       "          0,   6, 206, 253, 140,   0,   0,   0,   0,   0,   0,   0,   0,\n",
       "          0,   0],\n",
       "       [  0,   0,   0,   0,   0,   0,   0,  77, 251, 210,  25,   0,   0,\n",
       "          0, 122, 248, 253,  65,   0,   0,   0,   0,   0,   0,   0,   0,\n",
       "          0,   0],\n",
       "       [  0,   0,   0,   0,   0,   0,   0,   0,  31,  18,   0,   0,   0,\n",
       "          0, 209, 253, 253,  65,   0,   0,   0,   0,   0,   0,   0,   0,\n",
       "          0,   0],\n",
       "       [  0,   0,   0,   0,   0,   0,   0,   0,   0,   0,   0,   0,   0,\n",
       "        117, 247, 253, 198,  10,   0,   0,   0,   0,   0,   0,   0,   0,\n",
       "          0,   0],\n",
       "       [  0,   0,   0,   0,   0,   0,   0,   0,   0,   0,   0,   0,  76,\n",
       "        247, 253, 231,  63,   0,   0,   0,   0,   0,   0,   0,   0,   0,\n",
       "          0,   0],\n",
       "       [  0,   0,   0,   0,   0,   0,   0,   0,   0,   0,   0,   0, 128,\n",
       "        253, 253, 144,   0,   0,   0,   0,   0,   0,   0,   0,   0,   0,\n",
       "          0,   0],\n",
       "       [  0,   0,   0,   0,   0,   0,   0,   0,   0,   0,   0, 176, 246,\n",
       "        253, 159,  12,   0,   0,   0,   0,   0,   0,   0,   0,   0,   0,\n",
       "          0,   0],\n",
       "       [  0,   0,   0,   0,   0,   0,   0,   0,   0,   0,  25, 234, 253,\n",
       "        233,  35,   0,   0,   0,   0,   0,   0,   0,   0,   0,   0,   0,\n",
       "          0,   0],\n",
       "       [  0,   0,   0,   0,   0,   0,   0,   0,   0,   0, 198, 253, 253,\n",
       "        141,   0,   0,   0,   0,   0,   0,   0,   0,   0,   0,   0,   0,\n",
       "          0,   0],\n",
       "       [  0,   0,   0,   0,   0,   0,   0,   0,   0,  78, 248, 253, 189,\n",
       "         12,   0,   0,   0,   0,   0,   0,   0,   0,   0,   0,   0,   0,\n",
       "          0,   0],\n",
       "       [  0,   0,   0,   0,   0,   0,   0,   0,  19, 200, 253, 253, 141,\n",
       "          0,   0,   0,   0,   0,   0,   0,   0,   0,   0,   0,   0,   0,\n",
       "          0,   0],\n",
       "       [  0,   0,   0,   0,   0,   0,   0,   0, 134, 253, 253, 173,  12,\n",
       "          0,   0,   0,   0,   0,   0,   0,   0,   0,   0,   0,   0,   0,\n",
       "          0,   0],\n",
       "       [  0,   0,   0,   0,   0,   0,   0,   0, 248, 253, 253,  25,   0,\n",
       "          0,   0,   0,   0,   0,   0,   0,   0,   0,   0,   0,   0,   0,\n",
       "          0,   0],\n",
       "       [  0,   0,   0,   0,   0,   0,   0,   0, 248, 253, 253,  43,  20,\n",
       "         20,  20,  20,   5,   0,   5,  20,  20,  37, 150, 150, 150, 147,\n",
       "         10,   0],\n",
       "       [  0,   0,   0,   0,   0,   0,   0,   0, 248, 253, 253, 253, 253,\n",
       "        253, 253, 253, 168, 143, 166, 253, 253, 253, 253, 253, 253, 253,\n",
       "        123,   0],\n",
       "       [  0,   0,   0,   0,   0,   0,   0,   0, 174, 253, 253, 253, 253,\n",
       "        253, 253, 253, 253, 253, 253, 253, 249, 247, 247, 169, 117, 117,\n",
       "         57,   0],\n",
       "       [  0,   0,   0,   0,   0,   0,   0,   0,   0, 118, 123, 123, 123,\n",
       "        166, 253, 253, 253, 155, 123, 123,  41,   0,   0,   0,   0,   0,\n",
       "          0,   0],\n",
       "       [  0,   0,   0,   0,   0,   0,   0,   0,   0,   0,   0,   0,   0,\n",
       "          0,   0,   0,   0,   0,   0,   0,   0,   0,   0,   0,   0,   0,\n",
       "          0,   0],\n",
       "       [  0,   0,   0,   0,   0,   0,   0,   0,   0,   0,   0,   0,   0,\n",
       "          0,   0,   0,   0,   0,   0,   0,   0,   0,   0,   0,   0,   0,\n",
       "          0,   0],\n",
       "       [  0,   0,   0,   0,   0,   0,   0,   0,   0,   0,   0,   0,   0,\n",
       "          0,   0,   0,   0,   0,   0,   0,   0,   0,   0,   0,   0,   0,\n",
       "          0,   0],\n",
       "       [  0,   0,   0,   0,   0,   0,   0,   0,   0,   0,   0,   0,   0,\n",
       "          0,   0,   0,   0,   0,   0,   0,   0,   0,   0,   0,   0,   0,\n",
       "          0,   0],\n",
       "       [  0,   0,   0,   0,   0,   0,   0,   0,   0,   0,   0,   0,   0,\n",
       "          0,   0,   0,   0,   0,   0,   0,   0,   0,   0,   0,   0,   0,\n",
       "          0,   0]], dtype=uint8)"
      ]
     },
     "execution_count": 10,
     "metadata": {},
     "output_type": "execute_result"
    }
   ],
   "source": [
    "X_valid[1]"
   ]
  },
  {
   "cell_type": "code",
   "execution_count": 11,
   "metadata": {
    "colab": {
     "base_uri": "https://localhost:8080/"
    },
    "executionInfo": {
     "elapsed": 278388,
     "status": "ok",
     "timestamp": 1617715071207,
     "user": {
      "displayName": "Steele Russell",
      "photoUrl": "https://lh3.googleusercontent.com/a-/AOh14GgDAWJJ1_t0KxSDz4AP23E7GOs608xo6StSUqoF=s64",
      "userId": "00642755971909510180"
     },
     "user_tz": 300
    },
    "id": "DGiCKwOZNZ3E",
    "outputId": "d2bd380d-f7ae-4ac6-b6a6-44ef95c0dbbc"
   },
   "outputs": [
    {
     "data": {
      "text/plain": [
       "2"
      ]
     },
     "execution_count": 11,
     "metadata": {},
     "output_type": "execute_result"
    }
   ],
   "source": [
    "y_valid[1]"
   ]
  },
  {
   "cell_type": "markdown",
   "metadata": {
    "id": "8rbO4cjHNZ3E"
   },
   "source": [
    "#### Preprocess data"
   ]
  },
  {
   "cell_type": "code",
   "execution_count": 12,
   "metadata": {
    "executionInfo": {
     "elapsed": 278486,
     "status": "ok",
     "timestamp": 1617715071309,
     "user": {
      "displayName": "Steele Russell",
      "photoUrl": "https://lh3.googleusercontent.com/a-/AOh14GgDAWJJ1_t0KxSDz4AP23E7GOs608xo6StSUqoF=s64",
      "userId": "00642755971909510180"
     },
     "user_tz": 300
    },
    "id": "JRI8z517NZ3E"
   },
   "outputs": [],
   "source": [
    "X_train = X_train.reshape(60000, 784).astype('float32')\n",
    "X_valid = X_valid.reshape(10000, 784).astype('float32')"
   ]
  },
  {
   "cell_type": "code",
   "execution_count": 13,
   "metadata": {
    "executionInfo": {
     "elapsed": 278587,
     "status": "ok",
     "timestamp": 1617715071412,
     "user": {
      "displayName": "Steele Russell",
      "photoUrl": "https://lh3.googleusercontent.com/a-/AOh14GgDAWJJ1_t0KxSDz4AP23E7GOs608xo6StSUqoF=s64",
      "userId": "00642755971909510180"
     },
     "user_tz": 300
    },
    "id": "h-rS3o1NNZ3E"
   },
   "outputs": [],
   "source": [
    "X_train /= 255\n",
    "X_valid /= 255"
   ]
  },
  {
   "cell_type": "code",
   "execution_count": 14,
   "metadata": {
    "colab": {
     "base_uri": "https://localhost:8080/"
    },
    "executionInfo": {
     "elapsed": 278585,
     "status": "ok",
     "timestamp": 1617715071413,
     "user": {
      "displayName": "Steele Russell",
      "photoUrl": "https://lh3.googleusercontent.com/a-/AOh14GgDAWJJ1_t0KxSDz4AP23E7GOs608xo6StSUqoF=s64",
      "userId": "00642755971909510180"
     },
     "user_tz": 300
    },
    "id": "Fc1dAKLRNZ3F",
    "outputId": "e6522500-c2cf-43d2-bfa3-d45a219023a7"
   },
   "outputs": [
    {
     "data": {
      "text/plain": [
       "array([0.        , 0.        , 0.        , 0.        , 0.        ,\n",
       "       0.        , 0.        , 0.        , 0.        , 0.        ,\n",
       "       0.        , 0.        , 0.        , 0.        , 0.        ,\n",
       "       0.        , 0.        , 0.        , 0.        , 0.        ,\n",
       "       0.        , 0.        , 0.        , 0.        , 0.        ,\n",
       "       0.        , 0.        , 0.        , 0.        , 0.        ,\n",
       "       0.        , 0.        , 0.        , 0.        , 0.        ,\n",
       "       0.        , 0.        , 0.        , 0.        , 0.        ,\n",
       "       0.        , 0.        , 0.        , 0.        , 0.        ,\n",
       "       0.        , 0.        , 0.        , 0.        , 0.        ,\n",
       "       0.        , 0.        , 0.        , 0.        , 0.        ,\n",
       "       0.        , 0.        , 0.        , 0.        , 0.        ,\n",
       "       0.        , 0.        , 0.        , 0.        , 0.        ,\n",
       "       0.        , 0.        , 0.        , 0.        , 0.        ,\n",
       "       0.        , 0.        , 0.        , 0.        , 0.        ,\n",
       "       0.        , 0.        , 0.        , 0.        , 0.        ,\n",
       "       0.        , 0.        , 0.        , 0.        , 0.        ,\n",
       "       0.        , 0.        , 0.        , 0.        , 0.        ,\n",
       "       0.        , 0.        , 0.        , 0.        , 0.        ,\n",
       "       0.        , 0.        , 0.        , 0.        , 0.        ,\n",
       "       0.        , 0.        , 0.        , 0.        , 0.        ,\n",
       "       0.        , 0.        , 0.        , 0.        , 0.        ,\n",
       "       0.        , 0.        , 0.        , 0.        , 0.        ,\n",
       "       0.        , 0.        , 0.        , 0.        , 0.        ,\n",
       "       0.        , 0.        , 0.        , 0.        , 0.        ,\n",
       "       0.        , 0.        , 0.        , 0.        , 0.        ,\n",
       "       0.        , 0.        , 0.        , 0.        , 0.        ,\n",
       "       0.        , 0.        , 0.        , 0.        , 0.        ,\n",
       "       0.        , 0.        , 0.        , 0.        , 0.        ,\n",
       "       0.        , 0.        , 0.        , 0.        , 0.        ,\n",
       "       0.        , 0.        , 0.        , 0.        , 0.        ,\n",
       "       0.        , 0.        , 0.        , 0.        , 0.        ,\n",
       "       0.        , 0.        , 0.        , 0.        , 0.        ,\n",
       "       0.        , 0.        , 0.        , 0.        , 0.        ,\n",
       "       0.        , 0.        , 0.        , 0.        , 0.        ,\n",
       "       0.        , 0.        , 0.        , 0.        , 0.        ,\n",
       "       0.        , 0.        , 0.        , 0.        , 0.        ,\n",
       "       0.        , 0.        , 0.        , 0.        , 0.        ,\n",
       "       0.        , 0.        , 0.        , 0.        , 0.        ,\n",
       "       0.        , 0.        , 0.        , 0.        , 0.        ,\n",
       "       0.        , 0.        , 0.32941177, 0.7254902 , 0.62352943,\n",
       "       0.5921569 , 0.23529412, 0.14117648, 0.        , 0.        ,\n",
       "       0.        , 0.        , 0.        , 0.        , 0.        ,\n",
       "       0.        , 0.        , 0.        , 0.        , 0.        ,\n",
       "       0.        , 0.        , 0.        , 0.        , 0.        ,\n",
       "       0.        , 0.        , 0.        , 0.        , 0.        ,\n",
       "       0.87058824, 0.99607843, 0.99607843, 0.99607843, 0.99607843,\n",
       "       0.94509804, 0.7764706 , 0.7764706 , 0.7764706 , 0.7764706 ,\n",
       "       0.7764706 , 0.7764706 , 0.7764706 , 0.7764706 , 0.6666667 ,\n",
       "       0.20392157, 0.        , 0.        , 0.        , 0.        ,\n",
       "       0.        , 0.        , 0.        , 0.        , 0.        ,\n",
       "       0.        , 0.        , 0.        , 0.2627451 , 0.44705883,\n",
       "       0.28235295, 0.44705883, 0.6392157 , 0.8901961 , 0.99607843,\n",
       "       0.88235295, 0.99607843, 0.99607843, 0.99607843, 0.98039216,\n",
       "       0.8980392 , 0.99607843, 0.99607843, 0.54901963, 0.        ,\n",
       "       0.        , 0.        , 0.        , 0.        , 0.        ,\n",
       "       0.        , 0.        , 0.        , 0.        , 0.        ,\n",
       "       0.        , 0.        , 0.        , 0.        , 0.        ,\n",
       "       0.        , 0.06666667, 0.25882354, 0.05490196, 0.2627451 ,\n",
       "       0.2627451 , 0.2627451 , 0.23137255, 0.08235294, 0.9254902 ,\n",
       "       0.99607843, 0.41568628, 0.        , 0.        , 0.        ,\n",
       "       0.        , 0.        , 0.        , 0.        , 0.        ,\n",
       "       0.        , 0.        , 0.        , 0.        , 0.        ,\n",
       "       0.        , 0.        , 0.        , 0.        , 0.        ,\n",
       "       0.        , 0.        , 0.        , 0.        , 0.        ,\n",
       "       0.        , 0.3254902 , 0.99215686, 0.81960785, 0.07058824,\n",
       "       0.        , 0.        , 0.        , 0.        , 0.        ,\n",
       "       0.        , 0.        , 0.        , 0.        , 0.        ,\n",
       "       0.        , 0.        , 0.        , 0.        , 0.        ,\n",
       "       0.        , 0.        , 0.        , 0.        , 0.        ,\n",
       "       0.        , 0.        , 0.        , 0.08627451, 0.9137255 ,\n",
       "       1.        , 0.3254902 , 0.        , 0.        , 0.        ,\n",
       "       0.        , 0.        , 0.        , 0.        , 0.        ,\n",
       "       0.        , 0.        , 0.        , 0.        , 0.        ,\n",
       "       0.        , 0.        , 0.        , 0.        , 0.        ,\n",
       "       0.        , 0.        , 0.        , 0.        , 0.        ,\n",
       "       0.        , 0.5058824 , 0.99607843, 0.93333334, 0.17254902,\n",
       "       0.        , 0.        , 0.        , 0.        , 0.        ,\n",
       "       0.        , 0.        , 0.        , 0.        , 0.        ,\n",
       "       0.        , 0.        , 0.        , 0.        , 0.        ,\n",
       "       0.        , 0.        , 0.        , 0.        , 0.        ,\n",
       "       0.        , 0.        , 0.        , 0.23137255, 0.9764706 ,\n",
       "       0.99607843, 0.24313726, 0.        , 0.        , 0.        ,\n",
       "       0.        , 0.        , 0.        , 0.        , 0.        ,\n",
       "       0.        , 0.        , 0.        , 0.        , 0.        ,\n",
       "       0.        , 0.        , 0.        , 0.        , 0.        ,\n",
       "       0.        , 0.        , 0.        , 0.        , 0.        ,\n",
       "       0.        , 0.52156866, 0.99607843, 0.73333335, 0.01960784,\n",
       "       0.        , 0.        , 0.        , 0.        , 0.        ,\n",
       "       0.        , 0.        , 0.        , 0.        , 0.        ,\n",
       "       0.        , 0.        , 0.        , 0.        , 0.        ,\n",
       "       0.        , 0.        , 0.        , 0.        , 0.        ,\n",
       "       0.        , 0.        , 0.        , 0.03529412, 0.8039216 ,\n",
       "       0.972549  , 0.22745098, 0.        , 0.        , 0.        ,\n",
       "       0.        , 0.        , 0.        , 0.        , 0.        ,\n",
       "       0.        , 0.        , 0.        , 0.        , 0.        ,\n",
       "       0.        , 0.        , 0.        , 0.        , 0.        ,\n",
       "       0.        , 0.        , 0.        , 0.        , 0.        ,\n",
       "       0.        , 0.49411765, 0.99607843, 0.7137255 , 0.        ,\n",
       "       0.        , 0.        , 0.        , 0.        , 0.        ,\n",
       "       0.        , 0.        , 0.        , 0.        , 0.        ,\n",
       "       0.        , 0.        , 0.        , 0.        , 0.        ,\n",
       "       0.        , 0.        , 0.        , 0.        , 0.        ,\n",
       "       0.        , 0.        , 0.        , 0.29411766, 0.9843137 ,\n",
       "       0.9411765 , 0.22352941, 0.        , 0.        , 0.        ,\n",
       "       0.        , 0.        , 0.        , 0.        , 0.        ,\n",
       "       0.        , 0.        , 0.        , 0.        , 0.        ,\n",
       "       0.        , 0.        , 0.        , 0.        , 0.        ,\n",
       "       0.        , 0.        , 0.        , 0.        , 0.        ,\n",
       "       0.07450981, 0.8666667 , 0.99607843, 0.6509804 , 0.        ,\n",
       "       0.        , 0.        , 0.        , 0.        , 0.        ,\n",
       "       0.        , 0.        , 0.        , 0.        , 0.        ,\n",
       "       0.        , 0.        , 0.        , 0.        , 0.        ,\n",
       "       0.        , 0.        , 0.        , 0.        , 0.        ,\n",
       "       0.        , 0.        , 0.01176471, 0.79607844, 0.99607843,\n",
       "       0.85882354, 0.13725491, 0.        , 0.        , 0.        ,\n",
       "       0.        , 0.        , 0.        , 0.        , 0.        ,\n",
       "       0.        , 0.        , 0.        , 0.        , 0.        ,\n",
       "       0.        , 0.        , 0.        , 0.        , 0.        ,\n",
       "       0.        , 0.        , 0.        , 0.        , 0.        ,\n",
       "       0.14901961, 0.99607843, 0.99607843, 0.3019608 , 0.        ,\n",
       "       0.        , 0.        , 0.        , 0.        , 0.        ,\n",
       "       0.        , 0.        , 0.        , 0.        , 0.        ,\n",
       "       0.        , 0.        , 0.        , 0.        , 0.        ,\n",
       "       0.        , 0.        , 0.        , 0.        , 0.        ,\n",
       "       0.        , 0.        , 0.12156863, 0.8784314 , 0.99607843,\n",
       "       0.4509804 , 0.00392157, 0.        , 0.        , 0.        ,\n",
       "       0.        , 0.        , 0.        , 0.        , 0.        ,\n",
       "       0.        , 0.        , 0.        , 0.        , 0.        ,\n",
       "       0.        , 0.        , 0.        , 0.        , 0.        ,\n",
       "       0.        , 0.        , 0.        , 0.        , 0.        ,\n",
       "       0.52156866, 0.99607843, 0.99607843, 0.20392157, 0.        ,\n",
       "       0.        , 0.        , 0.        , 0.        , 0.        ,\n",
       "       0.        , 0.        , 0.        , 0.        , 0.        ,\n",
       "       0.        , 0.        , 0.        , 0.        , 0.        ,\n",
       "       0.        , 0.        , 0.        , 0.        , 0.        ,\n",
       "       0.        , 0.        , 0.23921569, 0.9490196 , 0.99607843,\n",
       "       0.99607843, 0.20392157, 0.        , 0.        , 0.        ,\n",
       "       0.        , 0.        , 0.        , 0.        , 0.        ,\n",
       "       0.        , 0.        , 0.        , 0.        , 0.        ,\n",
       "       0.        , 0.        , 0.        , 0.        , 0.        ,\n",
       "       0.        , 0.        , 0.        , 0.        , 0.        ,\n",
       "       0.4745098 , 0.99607843, 0.99607843, 0.85882354, 0.15686275,\n",
       "       0.        , 0.        , 0.        , 0.        , 0.        ,\n",
       "       0.        , 0.        , 0.        , 0.        , 0.        ,\n",
       "       0.        , 0.        , 0.        , 0.        , 0.        ,\n",
       "       0.        , 0.        , 0.        , 0.        , 0.        ,\n",
       "       0.        , 0.        , 0.        , 0.4745098 , 0.99607843,\n",
       "       0.8117647 , 0.07058824, 0.        , 0.        , 0.        ,\n",
       "       0.        , 0.        , 0.        , 0.        , 0.        ,\n",
       "       0.        , 0.        , 0.        , 0.        , 0.        ,\n",
       "       0.        , 0.        , 0.        , 0.        , 0.        ,\n",
       "       0.        , 0.        , 0.        , 0.        , 0.        ,\n",
       "       0.        , 0.        , 0.        , 0.        , 0.        ,\n",
       "       0.        , 0.        , 0.        , 0.        , 0.        ,\n",
       "       0.        , 0.        , 0.        , 0.        , 0.        ,\n",
       "       0.        , 0.        , 0.        , 0.        ], dtype=float32)"
      ]
     },
     "execution_count": 14,
     "metadata": {},
     "output_type": "execute_result"
    }
   ],
   "source": [
    "X_valid[0]"
   ]
  },
  {
   "cell_type": "code",
   "execution_count": 15,
   "metadata": {
    "executionInfo": {
     "elapsed": 278581,
     "status": "ok",
     "timestamp": 1617715071413,
     "user": {
      "displayName": "Steele Russell",
      "photoUrl": "https://lh3.googleusercontent.com/a-/AOh14GgDAWJJ1_t0KxSDz4AP23E7GOs608xo6StSUqoF=s64",
      "userId": "00642755971909510180"
     },
     "user_tz": 300
    },
    "id": "PdPXVp9cNZ3F"
   },
   "outputs": [],
   "source": [
    "n_classes = 10\n",
    "y_train = to_categorical(y_train, n_classes)\n",
    "y_valid = to_categorical(y_valid, n_classes)"
   ]
  },
  {
   "cell_type": "code",
   "execution_count": 16,
   "metadata": {
    "colab": {
     "base_uri": "https://localhost:8080/"
    },
    "executionInfo": {
     "elapsed": 278579,
     "status": "ok",
     "timestamp": 1617715071413,
     "user": {
      "displayName": "Steele Russell",
      "photoUrl": "https://lh3.googleusercontent.com/a-/AOh14GgDAWJJ1_t0KxSDz4AP23E7GOs608xo6StSUqoF=s64",
      "userId": "00642755971909510180"
     },
     "user_tz": 300
    },
    "id": "b0GxQeHJNZ3F",
    "outputId": "9aa7e004-b62f-4708-a718-22cc9a24f1fb"
   },
   "outputs": [
    {
     "data": {
      "text/plain": [
       "array([0., 0., 0., 0., 0., 0., 0., 1., 0., 0.], dtype=float32)"
      ]
     },
     "execution_count": 16,
     "metadata": {},
     "output_type": "execute_result"
    }
   ],
   "source": [
    "y_valid[0]"
   ]
  },
  {
   "cell_type": "markdown",
   "metadata": {
    "id": "x8n5OGEoNZ3F"
   },
   "source": [
    "#### Design neural network architecture"
   ]
  },
  {
   "cell_type": "code",
   "execution_count": 17,
   "metadata": {
    "executionInfo": {
     "elapsed": 278666,
     "status": "ok",
     "timestamp": 1617715071504,
     "user": {
      "displayName": "Steele Russell",
      "photoUrl": "https://lh3.googleusercontent.com/a-/AOh14GgDAWJJ1_t0KxSDz4AP23E7GOs608xo6StSUqoF=s64",
      "userId": "00642755971909510180"
     },
     "user_tz": 300
    },
    "id": "MzLC0MWUNZ3F"
   },
   "outputs": [],
   "source": [
    "model = Sequential()\n",
    "model.add(Dense(64, activation='sigmoid', input_shape=(784,)))\n",
    "model.add(Dense(10, activation='softmax'))"
   ]
  },
  {
   "cell_type": "code",
   "execution_count": 18,
   "metadata": {
    "colab": {
     "base_uri": "https://localhost:8080/"
    },
    "executionInfo": {
     "elapsed": 278664,
     "status": "ok",
     "timestamp": 1617715071504,
     "user": {
      "displayName": "Steele Russell",
      "photoUrl": "https://lh3.googleusercontent.com/a-/AOh14GgDAWJJ1_t0KxSDz4AP23E7GOs608xo6StSUqoF=s64",
      "userId": "00642755971909510180"
     },
     "user_tz": 300
    },
    "id": "LWIOr6BZNZ3G",
    "outputId": "6488c720-ce74-4109-879a-0a506b332d3d"
   },
   "outputs": [
    {
     "name": "stdout",
     "output_type": "stream",
     "text": [
      "_________________________________________________________________\n",
      "Layer (type)                 Output Shape              Param #   \n",
      "=================================================================\n",
      "dense (Dense)                (None, 64)                50240     \n",
      "_________________________________________________________________\n",
      "dense_1 (Dense)              (None, 10)                650       \n",
      "=================================================================\n",
      "Total params: 50,890\n",
      "Trainable params: 50,890\n",
      "Non-trainable params: 0\n",
      "_________________________________________________________________\n"
     ]
    }
   ],
   "source": [
    "model.summary()"
   ]
  },
  {
   "cell_type": "code",
   "execution_count": 19,
   "metadata": {
    "colab": {
     "base_uri": "https://localhost:8080/"
    },
    "executionInfo": {
     "elapsed": 278660,
     "status": "ok",
     "timestamp": 1617715071505,
     "user": {
      "displayName": "Steele Russell",
      "photoUrl": "https://lh3.googleusercontent.com/a-/AOh14GgDAWJJ1_t0KxSDz4AP23E7GOs608xo6StSUqoF=s64",
      "userId": "00642755971909510180"
     },
     "user_tz": 300
    },
    "id": "SuHZh13vNZ3G",
    "outputId": "3e323f20-6639-46e8-d9db-7d42960ffe2e"
   },
   "outputs": [
    {
     "data": {
      "text/plain": [
       "50176"
      ]
     },
     "execution_count": 19,
     "metadata": {},
     "output_type": "execute_result"
    }
   ],
   "source": [
    "(64*784)"
   ]
  },
  {
   "cell_type": "code",
   "execution_count": 20,
   "metadata": {
    "colab": {
     "base_uri": "https://localhost:8080/"
    },
    "executionInfo": {
     "elapsed": 278656,
     "status": "ok",
     "timestamp": 1617715071505,
     "user": {
      "displayName": "Steele Russell",
      "photoUrl": "https://lh3.googleusercontent.com/a-/AOh14GgDAWJJ1_t0KxSDz4AP23E7GOs608xo6StSUqoF=s64",
      "userId": "00642755971909510180"
     },
     "user_tz": 300
    },
    "id": "kQuz-9nJNZ3G",
    "outputId": "7e72fb46-4519-4035-f08c-f327c60bb95d"
   },
   "outputs": [
    {
     "data": {
      "text/plain": [
       "50240"
      ]
     },
     "execution_count": 20,
     "metadata": {},
     "output_type": "execute_result"
    }
   ],
   "source": [
    "(64*784)+64"
   ]
  },
  {
   "cell_type": "code",
   "execution_count": 21,
   "metadata": {
    "colab": {
     "base_uri": "https://localhost:8080/"
    },
    "executionInfo": {
     "elapsed": 278653,
     "status": "ok",
     "timestamp": 1617715071506,
     "user": {
      "displayName": "Steele Russell",
      "photoUrl": "https://lh3.googleusercontent.com/a-/AOh14GgDAWJJ1_t0KxSDz4AP23E7GOs608xo6StSUqoF=s64",
      "userId": "00642755971909510180"
     },
     "user_tz": 300
    },
    "id": "whHKHFw0NZ3G",
    "outputId": "b74e9b89-3d0e-4b99-d6eb-5e745d253ddc"
   },
   "outputs": [
    {
     "data": {
      "text/plain": [
       "650"
      ]
     },
     "execution_count": 21,
     "metadata": {},
     "output_type": "execute_result"
    }
   ],
   "source": [
    "(10*64)+10"
   ]
  },
  {
   "cell_type": "markdown",
   "metadata": {
    "id": "1pPId_QkNZ3G"
   },
   "source": [
    "#### Configure model"
   ]
  },
  {
   "cell_type": "code",
   "execution_count": 22,
   "metadata": {
    "executionInfo": {
     "elapsed": 279199,
     "status": "ok",
     "timestamp": 1617715072055,
     "user": {
      "displayName": "Steele Russell",
      "photoUrl": "https://lh3.googleusercontent.com/a-/AOh14GgDAWJJ1_t0KxSDz4AP23E7GOs608xo6StSUqoF=s64",
      "userId": "00642755971909510180"
     },
     "user_tz": 300
    },
    "id": "AsVIfWIqNZ3H"
   },
   "outputs": [],
   "source": [
    "model.compile(loss='mean_squared_error', optimizer=SGD(lr=0.01), metrics=['accuracy'])"
   ]
  },
  {
   "cell_type": "markdown",
   "metadata": {
    "id": "XVIuAZIzNZ3H"
   },
   "source": [
    "#### Train!"
   ]
  },
  {
   "cell_type": "code",
   "execution_count": 23,
   "metadata": {
    "colab": {
     "base_uri": "https://localhost:8080/"
    },
    "executionInfo": {
     "elapsed": 288303,
     "status": "ok",
     "timestamp": 1617715067976,
     "user": {
      "displayName": "Steele Russell",
      "photoUrl": "https://lh3.googleusercontent.com/a-/AOh14GgDAWJJ1_t0KxSDz4AP23E7GOs608xo6StSUqoF=s64",
      "userId": "00642755971909510180"
     },
     "user_tz": 300
    },
    "id": "l3p5tjyyNZ3H",
    "outputId": "bd05a090-9455-4811-8af1-bc30d535ab11"
   },
   "outputs": [
    {
     "name": "stdout",
     "output_type": "stream",
     "text": [
      "Train on 60000 samples, validate on 10000 samples\n",
      "Epoch 1/200\n",
      "60000/60000 [==============================] - 1s 14us/step - loss: 0.0932 - acc: 0.1031 - val_loss: 0.0928 - val_acc: 0.1050\n",
      "Epoch 2/200\n",
      "60000/60000 [==============================] - 1s 10us/step - loss: 0.0924 - acc: 0.1077 - val_loss: 0.0921 - val_acc: 0.1091\n",
      "Epoch 3/200\n",
      "60000/60000 [==============================] - 1s 10us/step - loss: 0.0918 - acc: 0.1142 - val_loss: 0.0915 - val_acc: 0.1186\n",
      "Epoch 4/200\n",
      "60000/60000 [==============================] - 1s 10us/step - loss: 0.0912 - acc: 0.1310 - val_loss: 0.0909 - val_acc: 0.1372\n",
      "Epoch 5/200\n",
      "60000/60000 [==============================] - 1s 10us/step - loss: 0.0907 - acc: 0.1541 - val_loss: 0.0905 - val_acc: 0.1615\n",
      "Epoch 6/200\n",
      "60000/60000 [==============================] - 1s 10us/step - loss: 0.0903 - acc: 0.1771 - val_loss: 0.0900 - val_acc: 0.1841\n",
      "Epoch 7/200\n",
      "60000/60000 [==============================] - 1s 10us/step - loss: 0.0898 - acc: 0.1973 - val_loss: 0.0896 - val_acc: 0.2052 0s - loss: 0.0898 - acc: 0.19\n",
      "Epoch 8/200\n",
      "60000/60000 [==============================] - 1s 10us/step - loss: 0.0894 - acc: 0.2158 - val_loss: 0.0892 - val_acc: 0.2224\n",
      "Epoch 9/200\n",
      "60000/60000 [==============================] - 1s 9us/step - loss: 0.0891 - acc: 0.2356 - val_loss: 0.0889 - val_acc: 0.2430\n",
      "Epoch 10/200\n",
      "60000/60000 [==============================] - 1s 10us/step - loss: 0.0887 - acc: 0.2590 - val_loss: 0.0885 - val_acc: 0.2673\n",
      "Epoch 11/200\n",
      "60000/60000 [==============================] - 1s 10us/step - loss: 0.0884 - acc: 0.2852 - val_loss: 0.0882 - val_acc: 0.2950\n",
      "Epoch 12/200\n",
      "60000/60000 [==============================] - 1s 10us/step - loss: 0.0881 - acc: 0.3080 - val_loss: 0.0879 - val_acc: 0.3125\n",
      "Epoch 13/200\n",
      "60000/60000 [==============================] - 1s 10us/step - loss: 0.0878 - acc: 0.3257 - val_loss: 0.0875 - val_acc: 0.3282\n",
      "Epoch 14/200\n",
      "60000/60000 [==============================] - 1s 10us/step - loss: 0.0874 - acc: 0.3410 - val_loss: 0.0872 - val_acc: 0.3481\n",
      "Epoch 15/200\n",
      "60000/60000 [==============================] - 1s 10us/step - loss: 0.0871 - acc: 0.3580 - val_loss: 0.0869 - val_acc: 0.3679\n",
      "Epoch 16/200\n",
      "60000/60000 [==============================] - 1s 10us/step - loss: 0.0868 - acc: 0.3790 - val_loss: 0.0866 - val_acc: 0.3889\n",
      "Epoch 17/200\n",
      "60000/60000 [==============================] - 1s 10us/step - loss: 0.0865 - acc: 0.3968 - val_loss: 0.0863 - val_acc: 0.4074\n",
      "Epoch 18/200\n",
      "60000/60000 [==============================] - 1s 10us/step - loss: 0.0862 - acc: 0.4125 - val_loss: 0.0859 - val_acc: 0.4217\n",
      "Epoch 19/200\n",
      "60000/60000 [==============================] - 1s 10us/step - loss: 0.0858 - acc: 0.4247 - val_loss: 0.0856 - val_acc: 0.4314\n",
      "Epoch 20/200\n",
      "60000/60000 [==============================] - 1s 11us/step - loss: 0.0855 - acc: 0.4316 - val_loss: 0.0853 - val_acc: 0.4390\n",
      "Epoch 21/200\n",
      "60000/60000 [==============================] - 1s 10us/step - loss: 0.0852 - acc: 0.4376 - val_loss: 0.0849 - val_acc: 0.4439\n",
      "Epoch 22/200\n",
      "60000/60000 [==============================] - 1s 11us/step - loss: 0.0849 - acc: 0.4400 - val_loss: 0.0846 - val_acc: 0.4465\n",
      "Epoch 23/200\n",
      "60000/60000 [==============================] - 1s 11us/step - loss: 0.0845 - acc: 0.4427 - val_loss: 0.0843 - val_acc: 0.4491 0s - loss: 0.0847 - acc:\n",
      "Epoch 24/200\n",
      "60000/60000 [==============================] - 1s 11us/step - loss: 0.0842 - acc: 0.4441 - val_loss: 0.0839 - val_acc: 0.4515\n",
      "Epoch 25/200\n",
      "60000/60000 [==============================] - 1s 12us/step - loss: 0.0838 - acc: 0.4474 - val_loss: 0.0835 - val_acc: 0.4532\n",
      "Epoch 26/200\n",
      "60000/60000 [==============================] - 1s 15us/step - loss: 0.0835 - acc: 0.4491 - val_loss: 0.0832 - val_acc: 0.4551\n",
      "Epoch 27/200\n",
      "60000/60000 [==============================] - 2s 27us/step - loss: 0.0831 - acc: 0.4514 - val_loss: 0.0828 - val_acc: 0.4596\n",
      "Epoch 28/200\n",
      "60000/60000 [==============================] - 1s 14us/step - loss: 0.0827 - acc: 0.4547 - val_loss: 0.0824 - val_acc: 0.4611\n",
      "Epoch 29/200\n",
      "60000/60000 [==============================] - 1s 11us/step - loss: 0.0823 - acc: 0.4571 - val_loss: 0.0820 - val_acc: 0.4628\n",
      "Epoch 30/200\n",
      "60000/60000 [==============================] - 1s 11us/step - loss: 0.0820 - acc: 0.4594 - val_loss: 0.0816 - val_acc: 0.4647\n",
      "Epoch 31/200\n",
      "60000/60000 [==============================] - 1s 11us/step - loss: 0.0816 - acc: 0.4613 - val_loss: 0.0812 - val_acc: 0.4671\n",
      "Epoch 32/200\n",
      "60000/60000 [==============================] - 1s 11us/step - loss: 0.0811 - acc: 0.4643 - val_loss: 0.0808 - val_acc: 0.4691\n",
      "Epoch 33/200\n",
      "60000/60000 [==============================] - 1s 17us/step - loss: 0.0807 - acc: 0.4669 - val_loss: 0.0804 - val_acc: 0.4720\n",
      "Epoch 34/200\n",
      "60000/60000 [==============================] - 1s 11us/step - loss: 0.0803 - acc: 0.4683 - val_loss: 0.0799 - val_acc: 0.4755- loss: 0.0803 - acc: 0.46\n",
      "Epoch 35/200\n",
      "60000/60000 [==============================] - 1s 11us/step - loss: 0.0799 - acc: 0.4710 - val_loss: 0.0795 - val_acc: 0.4784\n",
      "Epoch 36/200\n",
      "60000/60000 [==============================] - 1s 10us/step - loss: 0.0794 - acc: 0.4738 - val_loss: 0.0790 - val_acc: 0.4808\n",
      "Epoch 37/200\n",
      "60000/60000 [==============================] - 1s 11us/step - loss: 0.0790 - acc: 0.4769 - val_loss: 0.0786 - val_acc: 0.4838\n",
      "Epoch 38/200\n",
      "60000/60000 [==============================] - 1s 11us/step - loss: 0.0785 - acc: 0.4803 - val_loss: 0.0781 - val_acc: 0.4872\n",
      "Epoch 39/200\n",
      "60000/60000 [==============================] - 1s 11us/step - loss: 0.0780 - acc: 0.4830 - val_loss: 0.0776 - val_acc: 0.4898\n",
      "Epoch 40/200\n",
      "60000/60000 [==============================] - 1s 17us/step - loss: 0.0776 - acc: 0.4861 - val_loss: 0.0771 - val_acc: 0.4927\n",
      "Epoch 41/200\n",
      "60000/60000 [==============================] - 2s 25us/step - loss: 0.0771 - acc: 0.4904 - val_loss: 0.0766 - val_acc: 0.4962\n",
      "Epoch 42/200\n",
      "60000/60000 [==============================] - 1s 10us/step - loss: 0.0766 - acc: 0.4945 - val_loss: 0.0761 - val_acc: 0.5007\n",
      "Epoch 43/200\n",
      "60000/60000 [==============================] - 1s 10us/step - loss: 0.0761 - acc: 0.4991 - val_loss: 0.0756 - val_acc: 0.5061\n",
      "Epoch 44/200\n",
      "60000/60000 [==============================] - 2s 30us/step - loss: 0.0756 - acc: 0.5031 - val_loss: 0.0751 - val_acc: 0.5111\n",
      "Epoch 45/200\n",
      "60000/60000 [==============================] - 1s 21us/step - loss: 0.0751 - acc: 0.5081 - val_loss: 0.0746 - val_acc: 0.5161\n",
      "Epoch 46/200\n",
      "60000/60000 [==============================] - 1s 15us/step - loss: 0.0746 - acc: 0.5135 - val_loss: 0.0741 - val_acc: 0.5214\n",
      "Epoch 47/200\n",
      "60000/60000 [==============================] - 1s 9us/step - loss: 0.0741 - acc: 0.5195 - val_loss: 0.0736 - val_acc: 0.5269\n",
      "Epoch 48/200\n",
      "60000/60000 [==============================] - 1s 9us/step - loss: 0.0736 - acc: 0.5246 - val_loss: 0.0731 - val_acc: 0.5315\n",
      "Epoch 49/200\n",
      "60000/60000 [==============================] - 1s 8us/step - loss: 0.0730 - acc: 0.5305 - val_loss: 0.0726 - val_acc: 0.5370\n",
      "Epoch 50/200\n",
      "60000/60000 [==============================] - 1s 9us/step - loss: 0.0725 - acc: 0.5366 - val_loss: 0.0720 - val_acc: 0.5420\n",
      "Epoch 51/200\n",
      "60000/60000 [==============================] - 1s 9us/step - loss: 0.0720 - acc: 0.5431 - val_loss: 0.0715 - val_acc: 0.54790s - loss: 0.0720 - acc: 0.54\n",
      "Epoch 52/200\n",
      "60000/60000 [==============================] - 1s 9us/step - loss: 0.0715 - acc: 0.5486 - val_loss: 0.0710 - val_acc: 0.5541\n",
      "Epoch 53/200\n",
      "60000/60000 [==============================] - 1s 9us/step - loss: 0.0710 - acc: 0.5557 - val_loss: 0.0705 - val_acc: 0.5609\n",
      "Epoch 54/200\n",
      "60000/60000 [==============================] - 1s 9us/step - loss: 0.0705 - acc: 0.5617 - val_loss: 0.0699 - val_acc: 0.5676\n",
      "Epoch 55/200\n",
      "60000/60000 [==============================] - 1s 9us/step - loss: 0.0700 - acc: 0.5673 - val_loss: 0.0694 - val_acc: 0.5743\n",
      "Epoch 56/200\n",
      "60000/60000 [==============================] - 1s 9us/step - loss: 0.0694 - acc: 0.5741 - val_loss: 0.0689 - val_acc: 0.5806\n",
      "Epoch 57/200\n",
      "60000/60000 [==============================] - 1s 9us/step - loss: 0.0689 - acc: 0.5798 - val_loss: 0.0684 - val_acc: 0.5872\n",
      "Epoch 58/200\n",
      "60000/60000 [==============================] - 1s 9us/step - loss: 0.0684 - acc: 0.5869 - val_loss: 0.0679 - val_acc: 0.5949\n"
     ]
    },
    {
     "name": "stdout",
     "output_type": "stream",
     "text": [
      "Epoch 59/200\n",
      "60000/60000 [==============================] - 1s 9us/step - loss: 0.0679 - acc: 0.5928 - val_loss: 0.0674 - val_acc: 0.5993\n",
      "Epoch 60/200\n",
      "60000/60000 [==============================] - 1s 9us/step - loss: 0.0674 - acc: 0.5987 - val_loss: 0.0668 - val_acc: 0.6074\n",
      "Epoch 61/200\n",
      "60000/60000 [==============================] - 1s 9us/step - loss: 0.0669 - acc: 0.6046 - val_loss: 0.0663 - val_acc: 0.6128\n",
      "Epoch 62/200\n",
      "60000/60000 [==============================] - 1s 9us/step - loss: 0.0664 - acc: 0.6102 - val_loss: 0.0658 - val_acc: 0.6206\n",
      "Epoch 63/200\n",
      "60000/60000 [==============================] - 1s 9us/step - loss: 0.0659 - acc: 0.6159 - val_loss: 0.0653 - val_acc: 0.6248\n",
      "Epoch 64/200\n",
      "60000/60000 [==============================] - 1s 11us/step - loss: 0.0654 - acc: 0.6219 - val_loss: 0.0648 - val_acc: 0.6310\n",
      "Epoch 65/200\n",
      "60000/60000 [==============================] - 1s 11us/step - loss: 0.0649 - acc: 0.6266 - val_loss: 0.0643 - val_acc: 0.6366\n",
      "Epoch 66/200\n",
      "60000/60000 [==============================] - 1s 11us/step - loss: 0.0644 - acc: 0.6314 - val_loss: 0.0638 - val_acc: 0.6436\n",
      "Epoch 67/200\n",
      "60000/60000 [==============================] - 1s 8us/step - loss: 0.0639 - acc: 0.6374 - val_loss: 0.0633 - val_acc: 0.6487\n",
      "Epoch 68/200\n",
      "60000/60000 [==============================] - 1s 9us/step - loss: 0.0634 - acc: 0.6424 - val_loss: 0.0628 - val_acc: 0.6530\n",
      "Epoch 69/200\n",
      "60000/60000 [==============================] - 1s 9us/step - loss: 0.0629 - acc: 0.6470 - val_loss: 0.0623 - val_acc: 0.6570\n",
      "Epoch 70/200\n",
      "60000/60000 [==============================] - 1s 9us/step - loss: 0.0625 - acc: 0.6516 - val_loss: 0.0618 - val_acc: 0.6623\n",
      "Epoch 71/200\n",
      "60000/60000 [==============================] - 1s 10us/step - loss: 0.0620 - acc: 0.6566 - val_loss: 0.0614 - val_acc: 0.6674\n",
      "Epoch 72/200\n",
      "60000/60000 [==============================] - 1s 10us/step - loss: 0.0615 - acc: 0.6611 - val_loss: 0.0609 - val_acc: 0.6724\n",
      "Epoch 73/200\n",
      "60000/60000 [==============================] - 1s 9us/step - loss: 0.0610 - acc: 0.6653 - val_loss: 0.0604 - val_acc: 0.6772\n",
      "Epoch 74/200\n",
      "60000/60000 [==============================] - 1s 13us/step - loss: 0.0606 - acc: 0.6693 - val_loss: 0.0599 - val_acc: 0.6800\n",
      "Epoch 75/200\n",
      "60000/60000 [==============================] - 1s 13us/step - loss: 0.0601 - acc: 0.6729 - val_loss: 0.0594 - val_acc: 0.6842\n",
      "Epoch 76/200\n",
      "60000/60000 [==============================] - 1s 10us/step - loss: 0.0596 - acc: 0.6763 - val_loss: 0.0590 - val_acc: 0.6874\n",
      "Epoch 77/200\n",
      "60000/60000 [==============================] - 2s 28us/step - loss: 0.0592 - acc: 0.6799 - val_loss: 0.0585 - val_acc: 0.6904\n",
      "Epoch 78/200\n",
      "60000/60000 [==============================] - 2s 32us/step - loss: 0.0587 - acc: 0.6833 - val_loss: 0.0580 - val_acc: 0.6941\n",
      "Epoch 79/200\n",
      "60000/60000 [==============================] - 2s 27us/step - loss: 0.0582 - acc: 0.6864 - val_loss: 0.0576 - val_acc: 0.6978\n",
      "Epoch 80/200\n",
      "60000/60000 [==============================] - 2s 33us/step - loss: 0.0578 - acc: 0.6903 - val_loss: 0.0571 - val_acc: 0.7017\n",
      "Epoch 81/200\n",
      "60000/60000 [==============================] - 1s 14us/step - loss: 0.0573 - acc: 0.6932 - val_loss: 0.0567 - val_acc: 0.7044\n",
      "Epoch 82/200\n",
      "60000/60000 [==============================] - 1s 11us/step - loss: 0.0569 - acc: 0.6964 - val_loss: 0.0562 - val_acc: 0.7070\n",
      "Epoch 83/200\n",
      "60000/60000 [==============================] - 1s 16us/step - loss: 0.0565 - acc: 0.6988 - val_loss: 0.0558 - val_acc: 0.7097\n",
      "Epoch 84/200\n",
      "60000/60000 [==============================] - 2s 25us/step - loss: 0.0560 - acc: 0.7018 - val_loss: 0.0553 - val_acc: 0.7120\n",
      "Epoch 85/200\n",
      "60000/60000 [==============================] - 1s 21us/step - loss: 0.0556 - acc: 0.7052 - val_loss: 0.0549 - val_acc: 0.7161\n",
      "Epoch 86/200\n",
      "60000/60000 [==============================] - 2s 29us/step - loss: 0.0552 - acc: 0.7081 - val_loss: 0.0545 - val_acc: 0.7187\n",
      "Epoch 87/200\n",
      "60000/60000 [==============================] - 1s 21us/step - loss: 0.0547 - acc: 0.7111 - val_loss: 0.0540 - val_acc: 0.7212\n",
      "Epoch 88/200\n",
      "60000/60000 [==============================] - 1s 20us/step - loss: 0.0543 - acc: 0.7136 - val_loss: 0.0536 - val_acc: 0.7234\n",
      "Epoch 89/200\n",
      "60000/60000 [==============================] - 1s 17us/step - loss: 0.0539 - acc: 0.7165 - val_loss: 0.0532 - val_acc: 0.7273\n",
      "Epoch 90/200\n",
      "60000/60000 [==============================] - 2s 37us/step - loss: 0.0535 - acc: 0.7191 - val_loss: 0.0528 - val_acc: 0.7303\n",
      "Epoch 91/200\n",
      "60000/60000 [==============================] - 1s 11us/step - loss: 0.0531 - acc: 0.7213 - val_loss: 0.0524 - val_acc: 0.7329\n",
      "Epoch 92/200\n",
      "60000/60000 [==============================] - 1s 9us/step - loss: 0.0527 - acc: 0.7240 - val_loss: 0.0520 - val_acc: 0.7346\n",
      "Epoch 93/200\n",
      "60000/60000 [==============================] - 2s 41us/step - loss: 0.0523 - acc: 0.7259 - val_loss: 0.0516 - val_acc: 0.7364\n",
      "Epoch 94/200\n",
      "60000/60000 [==============================] - 2s 33us/step - loss: 0.0519 - acc: 0.7283 - val_loss: 0.0512 - val_acc: 0.7391\n",
      "Epoch 95/200\n",
      "60000/60000 [==============================] - 2s 32us/step - loss: 0.0515 - acc: 0.7306 - val_loss: 0.0508 - val_acc: 0.7403\n",
      "Epoch 96/200\n",
      "60000/60000 [==============================] - 1s 16us/step - loss: 0.0511 - acc: 0.7322 - val_loss: 0.0504 - val_acc: 0.7423\n",
      "Epoch 97/200\n",
      "60000/60000 [==============================] - 1s 10us/step - loss: 0.0508 - acc: 0.7346 - val_loss: 0.0500 - val_acc: 0.7449\n",
      "Epoch 98/200\n",
      "60000/60000 [==============================] - 1s 9us/step - loss: 0.0504 - acc: 0.7366 - val_loss: 0.0496 - val_acc: 0.7472\n",
      "Epoch 99/200\n",
      "60000/60000 [==============================] - 1s 11us/step - loss: 0.0500 - acc: 0.7385 - val_loss: 0.0493 - val_acc: 0.7488\n",
      "Epoch 100/200\n",
      "60000/60000 [==============================] - 1s 13us/step - loss: 0.0497 - acc: 0.7405 - val_loss: 0.0489 - val_acc: 0.7511\n",
      "Epoch 101/200\n",
      "60000/60000 [==============================] - 1s 9us/step - loss: 0.0493 - acc: 0.7424 - val_loss: 0.0485 - val_acc: 0.7532\n",
      "Epoch 102/200\n",
      "60000/60000 [==============================] - 2s 30us/step - loss: 0.0490 - acc: 0.7438 - val_loss: 0.0482 - val_acc: 0.7546\n",
      "Epoch 103/200\n",
      "60000/60000 [==============================] - 3s 49us/step - loss: 0.0486 - acc: 0.7458 - val_loss: 0.0478 - val_acc: 0.7562\n",
      "Epoch 104/200\n",
      "60000/60000 [==============================] - 2s 34us/step - loss: 0.0483 - acc: 0.7477 - val_loss: 0.0475 - val_acc: 0.7574\n",
      "Epoch 105/200\n",
      "60000/60000 [==============================] - 1s 16us/step - loss: 0.0479 - acc: 0.7495 - val_loss: 0.0472 - val_acc: 0.7591\n",
      "Epoch 106/200\n",
      "60000/60000 [==============================] - 1s 13us/step - loss: 0.0476 - acc: 0.7511 - val_loss: 0.0468 - val_acc: 0.7607\n",
      "Epoch 107/200\n",
      "60000/60000 [==============================] - 1s 14us/step - loss: 0.0473 - acc: 0.7526 - val_loss: 0.0465 - val_acc: 0.7617\n",
      "Epoch 108/200\n",
      "60000/60000 [==============================] - 1s 13us/step - loss: 0.0469 - acc: 0.7541 - val_loss: 0.0462 - val_acc: 0.7625\n",
      "Epoch 109/200\n",
      "60000/60000 [==============================] - 1s 13us/step - loss: 0.0466 - acc: 0.7558 - val_loss: 0.0458 - val_acc: 0.7645\n",
      "Epoch 110/200\n",
      "60000/60000 [==============================] - 1s 23us/step - loss: 0.0463 - acc: 0.7574 - val_loss: 0.0455 - val_acc: 0.7660\n",
      "Epoch 111/200\n",
      "60000/60000 [==============================] - 1s 17us/step - loss: 0.0460 - acc: 0.7590 - val_loss: 0.0452 - val_acc: 0.7671\n",
      "Epoch 112/200\n",
      "60000/60000 [==============================] - 1s 16us/step - loss: 0.0457 - acc: 0.7602 - val_loss: 0.0449 - val_acc: 0.7678\n",
      "Epoch 113/200\n",
      "60000/60000 [==============================] - 1s 15us/step - loss: 0.0454 - acc: 0.7614 - val_loss: 0.0446 - val_acc: 0.7691\n",
      "Epoch 114/200\n",
      "60000/60000 [==============================] - 1s 24us/step - loss: 0.0451 - acc: 0.7625 - val_loss: 0.0443 - val_acc: 0.7703\n",
      "Epoch 115/200\n",
      "60000/60000 [==============================] - 1s 19us/step - loss: 0.0448 - acc: 0.7636 - val_loss: 0.0440 - val_acc: 0.7708\n",
      "Epoch 116/200\n",
      "60000/60000 [==============================] - 1s 15us/step - loss: 0.0445 - acc: 0.7642 - val_loss: 0.0437 - val_acc: 0.7721\n",
      "Epoch 117/200\n",
      "60000/60000 [==============================] - 1s 15us/step - loss: 0.0442 - acc: 0.7651 - val_loss: 0.0434 - val_acc: 0.7727\n"
     ]
    },
    {
     "name": "stdout",
     "output_type": "stream",
     "text": [
      "Epoch 118/200\n",
      "60000/60000 [==============================] - 1s 22us/step - loss: 0.0439 - acc: 0.7662 - val_loss: 0.0431 - val_acc: 0.7737\n",
      "Epoch 119/200\n",
      "60000/60000 [==============================] - 1s 17us/step - loss: 0.0436 - acc: 0.7672 - val_loss: 0.0428 - val_acc: 0.7750\n",
      "Epoch 120/200\n",
      "60000/60000 [==============================] - 1s 19us/step - loss: 0.0433 - acc: 0.7682 - val_loss: 0.0425 - val_acc: 0.7764\n",
      "Epoch 121/200\n",
      "60000/60000 [==============================] - 1s 13us/step - loss: 0.0431 - acc: 0.7691 - val_loss: 0.0422 - val_acc: 0.7771\n",
      "Epoch 122/200\n",
      "60000/60000 [==============================] - 1s 13us/step - loss: 0.0428 - acc: 0.7701 - val_loss: 0.0420 - val_acc: 0.7778\n",
      "Epoch 123/200\n",
      "60000/60000 [==============================] - 1s 15us/step - loss: 0.0425 - acc: 0.7708 - val_loss: 0.0417 - val_acc: 0.7791\n",
      "Epoch 124/200\n",
      "60000/60000 [==============================] - 1s 13us/step - loss: 0.0423 - acc: 0.7715 - val_loss: 0.0414 - val_acc: 0.7801\n",
      "Epoch 125/200\n",
      "60000/60000 [==============================] - 1s 13us/step - loss: 0.0420 - acc: 0.7727 - val_loss: 0.0412 - val_acc: 0.7812\n",
      "Epoch 126/200\n",
      "60000/60000 [==============================] - 1s 13us/step - loss: 0.0417 - acc: 0.7739 - val_loss: 0.0409 - val_acc: 0.7827\n",
      "Epoch 127/200\n",
      "60000/60000 [==============================] - 1s 13us/step - loss: 0.0415 - acc: 0.7745 - val_loss: 0.0407 - val_acc: 0.7840\n",
      "Epoch 128/200\n",
      "60000/60000 [==============================] - 1s 14us/step - loss: 0.0412 - acc: 0.7757 - val_loss: 0.0404 - val_acc: 0.7852\n",
      "Epoch 129/200\n",
      "60000/60000 [==============================] - 1s 14us/step - loss: 0.0410 - acc: 0.7766 - val_loss: 0.0401 - val_acc: 0.7864\n",
      "Epoch 130/200\n",
      "60000/60000 [==============================] - 1s 15us/step - loss: 0.0407 - acc: 0.7779 - val_loss: 0.0399 - val_acc: 0.7872\n",
      "Epoch 131/200\n",
      "60000/60000 [==============================] - 1s 15us/step - loss: 0.0405 - acc: 0.7791 - val_loss: 0.0397 - val_acc: 0.7884\n",
      "Epoch 132/200\n",
      "60000/60000 [==============================] - 1s 14us/step - loss: 0.0403 - acc: 0.7803 - val_loss: 0.0394 - val_acc: 0.7898\n",
      "Epoch 133/200\n",
      "60000/60000 [==============================] - 1s 14us/step - loss: 0.0400 - acc: 0.7813 - val_loss: 0.0392 - val_acc: 0.7918\n",
      "Epoch 134/200\n",
      "60000/60000 [==============================] - 1s 12us/step - loss: 0.0398 - acc: 0.7826 - val_loss: 0.0389 - val_acc: 0.7929\n",
      "Epoch 135/200\n",
      "60000/60000 [==============================] - 1s 12us/step - loss: 0.0396 - acc: 0.7837 - val_loss: 0.0387 - val_acc: 0.7946\n",
      "Epoch 136/200\n",
      "60000/60000 [==============================] - 1s 13us/step - loss: 0.0393 - acc: 0.7852 - val_loss: 0.0385 - val_acc: 0.7958\n",
      "Epoch 137/200\n",
      "60000/60000 [==============================] - 1s 11us/step - loss: 0.0391 - acc: 0.7865 - val_loss: 0.0382 - val_acc: 0.7972\n",
      "Epoch 138/200\n",
      "60000/60000 [==============================] - 1s 10us/step - loss: 0.0389 - acc: 0.7876 - val_loss: 0.0380 - val_acc: 0.7983\n",
      "Epoch 139/200\n",
      "60000/60000 [==============================] - 1s 10us/step - loss: 0.0387 - acc: 0.7892 - val_loss: 0.0378 - val_acc: 0.8001\n",
      "Epoch 140/200\n",
      "60000/60000 [==============================] - 1s 11us/step - loss: 0.0384 - acc: 0.7903 - val_loss: 0.0376 - val_acc: 0.8022\n",
      "Epoch 141/200\n",
      "60000/60000 [==============================] - 1s 10us/step - loss: 0.0382 - acc: 0.7918 - val_loss: 0.0373 - val_acc: 0.8033\n",
      "Epoch 142/200\n",
      "60000/60000 [==============================] - 1s 10us/step - loss: 0.0380 - acc: 0.7938 - val_loss: 0.0371 - val_acc: 0.8050\n",
      "Epoch 143/200\n",
      "60000/60000 [==============================] - 1s 11us/step - loss: 0.0378 - acc: 0.7954 - val_loss: 0.0369 - val_acc: 0.8064\n",
      "Epoch 144/200\n",
      "60000/60000 [==============================] - 1s 10us/step - loss: 0.0376 - acc: 0.7970 - val_loss: 0.0367 - val_acc: 0.8082\n",
      "Epoch 145/200\n",
      "60000/60000 [==============================] - 1s 11us/step - loss: 0.0374 - acc: 0.7986 - val_loss: 0.0365 - val_acc: 0.8101\n",
      "Epoch 146/200\n",
      "60000/60000 [==============================] - 1s 10us/step - loss: 0.0372 - acc: 0.8006 - val_loss: 0.0363 - val_acc: 0.8110\n",
      "Epoch 147/200\n",
      "60000/60000 [==============================] - 1s 10us/step - loss: 0.0370 - acc: 0.8023 - val_loss: 0.0361 - val_acc: 0.8125\n",
      "Epoch 148/200\n",
      "60000/60000 [==============================] - 1s 10us/step - loss: 0.0368 - acc: 0.8041 - val_loss: 0.0359 - val_acc: 0.8144\n",
      "Epoch 149/200\n",
      "60000/60000 [==============================] - 1s 10us/step - loss: 0.0366 - acc: 0.8057 - val_loss: 0.0357 - val_acc: 0.8160\n",
      "Epoch 150/200\n",
      "60000/60000 [==============================] - 1s 10us/step - loss: 0.0364 - acc: 0.8072 - val_loss: 0.0355 - val_acc: 0.8179\n",
      "Epoch 151/200\n",
      "60000/60000 [==============================] - 1s 11us/step - loss: 0.0362 - acc: 0.8089 - val_loss: 0.0353 - val_acc: 0.8192\n",
      "Epoch 152/200\n",
      "60000/60000 [==============================] - 1s 11us/step - loss: 0.0360 - acc: 0.8109 - val_loss: 0.0351 - val_acc: 0.8205\n",
      "Epoch 153/200\n",
      "60000/60000 [==============================] - 1s 12us/step - loss: 0.0358 - acc: 0.8125 - val_loss: 0.0349 - val_acc: 0.8232\n",
      "Epoch 154/200\n",
      "60000/60000 [==============================] - 1s 12us/step - loss: 0.0356 - acc: 0.8142 - val_loss: 0.0347 - val_acc: 0.8249\n",
      "Epoch 155/200\n",
      "60000/60000 [==============================] - 1s 12us/step - loss: 0.0354 - acc: 0.8158 - val_loss: 0.0345 - val_acc: 0.8268\n",
      "Epoch 156/200\n",
      "60000/60000 [==============================] - 1s 12us/step - loss: 0.0352 - acc: 0.8174 - val_loss: 0.0343 - val_acc: 0.8282\n",
      "Epoch 157/200\n",
      "60000/60000 [==============================] - 1s 12us/step - loss: 0.0350 - acc: 0.8188 - val_loss: 0.0341 - val_acc: 0.8292\n",
      "Epoch 158/200\n",
      "60000/60000 [==============================] - 1s 12us/step - loss: 0.0349 - acc: 0.8204 - val_loss: 0.0339 - val_acc: 0.8303\n",
      "Epoch 159/200\n",
      "60000/60000 [==============================] - 1s 12us/step - loss: 0.0347 - acc: 0.8224 - val_loss: 0.0337 - val_acc: 0.8314\n",
      "Epoch 160/200\n",
      "60000/60000 [==============================] - 1s 12us/step - loss: 0.0345 - acc: 0.8239 - val_loss: 0.0336 - val_acc: 0.8326\n",
      "Epoch 161/200\n",
      "60000/60000 [==============================] - 1s 12us/step - loss: 0.0343 - acc: 0.8252 - val_loss: 0.0334 - val_acc: 0.8345\n",
      "Epoch 162/200\n",
      "60000/60000 [==============================] - 1s 10us/step - loss: 0.0341 - acc: 0.8261 - val_loss: 0.0332 - val_acc: 0.8358\n",
      "Epoch 163/200\n",
      "60000/60000 [==============================] - 1s 10us/step - loss: 0.0340 - acc: 0.8280 - val_loss: 0.0330 - val_acc: 0.8365\n",
      "Epoch 164/200\n",
      "60000/60000 [==============================] - 1s 10us/step - loss: 0.0338 - acc: 0.8293 - val_loss: 0.0329 - val_acc: 0.8375\n",
      "Epoch 165/200\n",
      "60000/60000 [==============================] - 1s 10us/step - loss: 0.0336 - acc: 0.8305 - val_loss: 0.0327 - val_acc: 0.83800s - loss: 0.0337 - acc: 0.8\n",
      "Epoch 166/200\n",
      "60000/60000 [==============================] - 1s 10us/step - loss: 0.0335 - acc: 0.8317 - val_loss: 0.0325 - val_acc: 0.8389\n",
      "Epoch 167/200\n",
      "60000/60000 [==============================] - 1s 10us/step - loss: 0.0333 - acc: 0.8326 - val_loss: 0.0323 - val_acc: 0.8403\n",
      "Epoch 168/200\n",
      "60000/60000 [==============================] - 1s 10us/step - loss: 0.0331 - acc: 0.8337 - val_loss: 0.0322 - val_acc: 0.8414\n",
      "Epoch 169/200\n",
      "60000/60000 [==============================] - 1s 10us/step - loss: 0.0330 - acc: 0.8346 - val_loss: 0.0320 - val_acc: 0.8423\n",
      "Epoch 170/200\n",
      "60000/60000 [==============================] - 1s 10us/step - loss: 0.0328 - acc: 0.8358 - val_loss: 0.0319 - val_acc: 0.8437\n",
      "Epoch 171/200\n",
      "60000/60000 [==============================] - 1s 10us/step - loss: 0.0327 - acc: 0.8367 - val_loss: 0.0317 - val_acc: 0.8453\n",
      "Epoch 172/200\n",
      "60000/60000 [==============================] - 1s 10us/step - loss: 0.0325 - acc: 0.8374 - val_loss: 0.0315 - val_acc: 0.8460\n",
      "Epoch 173/200\n",
      "60000/60000 [==============================] - 1s 10us/step - loss: 0.0323 - acc: 0.8386 - val_loss: 0.0314 - val_acc: 0.8480\n",
      "Epoch 174/200\n",
      "60000/60000 [==============================] - 1s 11us/step - loss: 0.0322 - acc: 0.8398 - val_loss: 0.0312 - val_acc: 0.8490\n",
      "Epoch 175/200\n",
      "60000/60000 [==============================] - 1s 12us/step - loss: 0.0320 - acc: 0.8406 - val_loss: 0.0311 - val_acc: 0.8498\n",
      "Epoch 176/200\n"
     ]
    },
    {
     "name": "stdout",
     "output_type": "stream",
     "text": [
      "60000/60000 [==============================] - 1s 12us/step - loss: 0.0319 - acc: 0.8413 - val_loss: 0.0309 - val_acc: 0.8501\n",
      "Epoch 177/200\n",
      "60000/60000 [==============================] - 1s 11us/step - loss: 0.0317 - acc: 0.8421 - val_loss: 0.0308 - val_acc: 0.8511\n",
      "Epoch 178/200\n",
      "60000/60000 [==============================] - 1s 12us/step - loss: 0.0316 - acc: 0.8427 - val_loss: 0.0306 - val_acc: 0.8519\n",
      "Epoch 179/200\n",
      "60000/60000 [==============================] - 1s 12us/step - loss: 0.0314 - acc: 0.8435 - val_loss: 0.0305 - val_acc: 0.8520\n",
      "Epoch 180/200\n",
      "60000/60000 [==============================] - 1s 12us/step - loss: 0.0313 - acc: 0.8441 - val_loss: 0.0303 - val_acc: 0.8533\n",
      "Epoch 181/200\n",
      "60000/60000 [==============================] - 1s 11us/step - loss: 0.0312 - acc: 0.8448 - val_loss: 0.0302 - val_acc: 0.8538\n",
      "Epoch 182/200\n",
      "60000/60000 [==============================] - 1s 13us/step - loss: 0.0310 - acc: 0.8456 - val_loss: 0.0300 - val_acc: 0.8544\n",
      "Epoch 183/200\n",
      "60000/60000 [==============================] - 1s 11us/step - loss: 0.0309 - acc: 0.8463 - val_loss: 0.0299 - val_acc: 0.8552\n",
      "Epoch 184/200\n",
      "60000/60000 [==============================] - 1s 12us/step - loss: 0.0307 - acc: 0.8469 - val_loss: 0.0298 - val_acc: 0.8563\n",
      "Epoch 185/200\n",
      "60000/60000 [==============================] - 1s 11us/step - loss: 0.0306 - acc: 0.8474 - val_loss: 0.0296 - val_acc: 0.8566\n",
      "Epoch 186/200\n",
      "60000/60000 [==============================] - 1s 10us/step - loss: 0.0305 - acc: 0.8483 - val_loss: 0.0295 - val_acc: 0.8575\n",
      "Epoch 187/200\n",
      "60000/60000 [==============================] - 1s 10us/step - loss: 0.0303 - acc: 0.8489 - val_loss: 0.0293 - val_acc: 0.8584\n",
      "Epoch 188/200\n",
      "60000/60000 [==============================] - 1s 10us/step - loss: 0.0302 - acc: 0.8496 - val_loss: 0.0292 - val_acc: 0.8590\n",
      "Epoch 189/200\n",
      "60000/60000 [==============================] - 1s 10us/step - loss: 0.0301 - acc: 0.8502 - val_loss: 0.0291 - val_acc: 0.8592\n",
      "Epoch 190/200\n",
      "60000/60000 [==============================] - 1s 10us/step - loss: 0.0299 - acc: 0.8508 - val_loss: 0.0290 - val_acc: 0.8599\n",
      "Epoch 191/200\n",
      "60000/60000 [==============================] - 1s 10us/step - loss: 0.0298 - acc: 0.8512 - val_loss: 0.0288 - val_acc: 0.8606\n",
      "Epoch 192/200\n",
      "60000/60000 [==============================] - 1s 10us/step - loss: 0.0297 - acc: 0.8519 - val_loss: 0.0287 - val_acc: 0.8609\n",
      "Epoch 193/200\n",
      "60000/60000 [==============================] - 1s 10us/step - loss: 0.0296 - acc: 0.8524 - val_loss: 0.0286 - val_acc: 0.8618\n",
      "Epoch 194/200\n",
      "60000/60000 [==============================] - 1s 10us/step - loss: 0.0294 - acc: 0.8528 - val_loss: 0.0284 - val_acc: 0.8622\n",
      "Epoch 195/200\n",
      "60000/60000 [==============================] - 1s 10us/step - loss: 0.0293 - acc: 0.8535 - val_loss: 0.0283 - val_acc: 0.8628\n",
      "Epoch 196/200\n",
      "60000/60000 [==============================] - 1s 10us/step - loss: 0.0292 - acc: 0.8542 - val_loss: 0.0282 - val_acc: 0.8636\n",
      "Epoch 197/200\n",
      "60000/60000 [==============================] - 1s 10us/step - loss: 0.0291 - acc: 0.8545 - val_loss: 0.0281 - val_acc: 0.8638\n",
      "Epoch 198/200\n",
      "60000/60000 [==============================] - 1s 10us/step - loss: 0.0290 - acc: 0.8550 - val_loss: 0.0280 - val_acc: 0.8641\n",
      "Epoch 199/200\n",
      "60000/60000 [==============================] - 1s 10us/step - loss: 0.0288 - acc: 0.8555 - val_loss: 0.0278 - val_acc: 0.8647\n",
      "Epoch 200/200\n",
      "60000/60000 [==============================] - 1s 12us/step - loss: 0.0287 - acc: 0.8560 - val_loss: 0.0277 - val_acc: 0.8652\n"
     ]
    },
    {
     "data": {
      "text/plain": [
       "<tensorflow.python.keras.callbacks.History at 0x2051cc61518>"
      ]
     },
     "execution_count": 23,
     "metadata": {},
     "output_type": "execute_result"
    }
   ],
   "source": [
    "model.fit(X_train, y_train, batch_size=128, epochs=200, verbose=1, validation_data=(X_valid, y_valid))"
   ]
  },
  {
   "cell_type": "markdown",
   "metadata": {
    "id": "T1ZjJlqsNZ3H"
   },
   "source": [
    "#### Evaluating model performance"
   ]
  },
  {
   "cell_type": "code",
   "execution_count": 24,
   "metadata": {
    "colab": {
     "base_uri": "https://localhost:8080/"
    },
    "executionInfo": {
     "elapsed": 288452,
     "status": "ok",
     "timestamp": 1617715068138,
     "user": {
      "displayName": "Steele Russell",
      "photoUrl": "https://lh3.googleusercontent.com/a-/AOh14GgDAWJJ1_t0KxSDz4AP23E7GOs608xo6StSUqoF=s64",
      "userId": "00642755971909510180"
     },
     "user_tz": 300
    },
    "id": "qDVdIexPNZ3H",
    "outputId": "0fd09857-aa95-4812-da65-d3ae9fb53451"
   },
   "outputs": [
    {
     "name": "stdout",
     "output_type": "stream",
     "text": [
      "10000/10000 [==============================] - 0s 17us/step\n"
     ]
    },
    {
     "data": {
      "text/plain": [
       "[0.02772442589402199, 0.8652]"
      ]
     },
     "execution_count": 24,
     "metadata": {},
     "output_type": "execute_result"
    }
   ],
   "source": [
    "model.evaluate(X_valid, y_valid)"
   ]
  },
  {
   "cell_type": "markdown",
   "metadata": {
    "id": "gCXSKe5ONZ3H"
   },
   "source": [
    "#### Performing inference"
   ]
  },
  {
   "cell_type": "code",
   "execution_count": 25,
   "metadata": {
    "executionInfo": {
     "elapsed": 288543,
     "status": "ok",
     "timestamp": 1617715068233,
     "user": {
      "displayName": "Steele Russell",
      "photoUrl": "https://lh3.googleusercontent.com/a-/AOh14GgDAWJJ1_t0KxSDz4AP23E7GOs608xo6StSUqoF=s64",
      "userId": "00642755971909510180"
     },
     "user_tz": 300
    },
    "id": "kAPmqfPVNZ3I"
   },
   "outputs": [],
   "source": [
    "valid_0 = X_valid[0].reshape(1, 784)"
   ]
  },
  {
   "cell_type": "code",
   "execution_count": 26,
   "metadata": {
    "colab": {
     "base_uri": "https://localhost:8080/"
    },
    "executionInfo": {
     "elapsed": 288618,
     "status": "ok",
     "timestamp": 1617715068311,
     "user": {
      "displayName": "Steele Russell",
      "photoUrl": "https://lh3.googleusercontent.com/a-/AOh14GgDAWJJ1_t0KxSDz4AP23E7GOs608xo6StSUqoF=s64",
      "userId": "00642755971909510180"
     },
     "user_tz": 300
    },
    "id": "0fdswkfSNZ3I",
    "outputId": "b5410608-53e6-4938-b4e5-d40346bf9b24"
   },
   "outputs": [
    {
     "data": {
      "text/plain": [
       "array([[5.0681694e-03, 1.1128912e-03, 2.1998428e-03, 5.1426403e-03,\n",
       "        3.9012379e-03, 1.0817937e-02, 4.8768095e-04, 9.2893147e-01,\n",
       "        4.8490213e-03, 3.7489008e-02]], dtype=float32)"
      ]
     },
     "execution_count": 26,
     "metadata": {},
     "output_type": "execute_result"
    }
   ],
   "source": [
    "model.predict(valid_0)"
   ]
  },
  {
   "cell_type": "code",
   "execution_count": 27,
   "metadata": {
    "colab": {
     "base_uri": "https://localhost:8080/"
    },
    "executionInfo": {
     "elapsed": 288700,
     "status": "ok",
     "timestamp": 1617715068396,
     "user": {
      "displayName": "Steele Russell",
      "photoUrl": "https://lh3.googleusercontent.com/a-/AOh14GgDAWJJ1_t0KxSDz4AP23E7GOs608xo6StSUqoF=s64",
      "userId": "00642755971909510180"
     },
     "user_tz": 300
    },
    "id": "lPVAdNuNNZ3I",
    "outputId": "bcb35f75-fc69-483a-a2ce-86f52fe0ce4e"
   },
   "outputs": [
    {
     "data": {
      "text/plain": [
       "array([7], dtype=int64)"
      ]
     },
     "execution_count": 27,
     "metadata": {},
     "output_type": "execute_result"
    }
   ],
   "source": [
    "model.predict_classes(valid_0)"
   ]
  },
  {
   "cell_type": "code",
   "execution_count": 28,
   "metadata": {
    "executionInfo": {
     "elapsed": 288697,
     "status": "ok",
     "timestamp": 1617715068397,
     "user": {
      "displayName": "Steele Russell",
      "photoUrl": "https://lh3.googleusercontent.com/a-/AOh14GgDAWJJ1_t0KxSDz4AP23E7GOs608xo6StSUqoF=s64",
      "userId": "00642755971909510180"
     },
     "user_tz": 300
    },
    "id": "S7fO11XqNZ3I"
   },
   "outputs": [],
   "source": []
  }
 ],
 "metadata": {
  "colab": {
   "name": "Copy of shallow_net_in_tensorflow.ipynb",
   "provenance": [
    {
     "file_id": "https://github.com/jonkrohn/DLTFpT/blob/master/notebooks/shallow_net_in_tensorflow.ipynb",
     "timestamp": 1617681190181
    }
   ]
  },
  "kernelspec": {
   "display_name": "Python 3",
   "language": "python",
   "name": "python3"
  },
  "language_info": {
   "codemirror_mode": {
    "name": "ipython",
    "version": 3
   },
   "file_extension": ".py",
   "mimetype": "text/x-python",
   "name": "python",
   "nbconvert_exporter": "python",
   "pygments_lexer": "ipython3",
   "version": "3.5.6"
  }
 },
 "nbformat": 4,
 "nbformat_minor": 1
}
