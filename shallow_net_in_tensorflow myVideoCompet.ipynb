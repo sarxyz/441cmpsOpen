{
 "cells": [
  {
   "cell_type": "markdown",
   "metadata": {
    "id": "rwtonsX4NZ26"
   },
   "source": [
    "# Shallow Neural Network in TensorFlow"
   ]
  },
  {
   "cell_type": "markdown",
   "metadata": {
    "id": "tiv5mGzfNZ2_"
   },
   "source": [
    "Build a shallow neural network to classify handwritten digits"
   ]
  },
  {
   "cell_type": "markdown",
   "metadata": {
    "id": "VLWFWUi6NZ2_"
   },
   "source": [
    "[![Open In Colab](https://colab.research.google.com/assets/colab-badge.svg)](https://colab.research.google.com/github/jonkrohn/DLTFpT/blob/master/notebooks/shallow_net_in_tensorflow.ipynb)"
   ]
  },
  {
   "cell_type": "markdown",
   "metadata": {
    "id": "tr-bYJfHNZ3A"
   },
   "source": [
    "#### Load dependencies"
   ]
  },
  {
   "cell_type": "code",
   "execution_count": 1,
   "metadata": {
    "executionInfo": {
     "elapsed": 275896,
     "status": "ok",
     "timestamp": 1617715068666,
     "user": {
      "displayName": "Steele Russell",
      "photoUrl": "https://lh3.googleusercontent.com/a-/AOh14GgDAWJJ1_t0KxSDz4AP23E7GOs608xo6StSUqoF=s64",
      "userId": "00642755971909510180"
     },
     "user_tz": 300
    },
    "id": "57oSfUG6NZ3A",
    "scrolled": true
   },
   "outputs": [
    {
     "ename": "ModuleNotFoundError",
     "evalue": "No module named 'tensorflow'",
     "output_type": "error",
     "traceback": [
      "\u001b[1;31m---------------------------------------------------------------------------\u001b[0m",
      "\u001b[1;31mModuleNotFoundError\u001b[0m                       Traceback (most recent call last)",
      "\u001b[1;32m<ipython-input-1-8b3bcf2100a8>\u001b[0m in \u001b[0;36m<module>\u001b[1;34m\u001b[0m\n\u001b[1;32m----> 1\u001b[1;33m \u001b[1;32mimport\u001b[0m \u001b[0mtensorflow\u001b[0m\u001b[1;33m\u001b[0m\u001b[1;33m\u001b[0m\u001b[0m\n\u001b[0m\u001b[0;32m      2\u001b[0m \u001b[1;32mfrom\u001b[0m \u001b[0mtensorflow\u001b[0m\u001b[1;33m.\u001b[0m\u001b[0mkeras\u001b[0m\u001b[1;33m.\u001b[0m\u001b[0mdatasets\u001b[0m \u001b[1;32mimport\u001b[0m \u001b[0mmnist\u001b[0m\u001b[1;33m\u001b[0m\u001b[1;33m\u001b[0m\u001b[0m\n\u001b[0;32m      3\u001b[0m \u001b[1;32mfrom\u001b[0m \u001b[0mtensorflow\u001b[0m\u001b[1;33m.\u001b[0m\u001b[0mkeras\u001b[0m\u001b[1;33m.\u001b[0m\u001b[0mutils\u001b[0m \u001b[1;32mimport\u001b[0m \u001b[0mto_categorical\u001b[0m\u001b[1;33m\u001b[0m\u001b[1;33m\u001b[0m\u001b[0m\n\u001b[0;32m      4\u001b[0m \u001b[1;32mfrom\u001b[0m \u001b[0mtensorflow\u001b[0m\u001b[1;33m.\u001b[0m\u001b[0mkeras\u001b[0m\u001b[1;33m.\u001b[0m\u001b[0mmodels\u001b[0m \u001b[1;32mimport\u001b[0m \u001b[0mSequential\u001b[0m\u001b[1;33m\u001b[0m\u001b[1;33m\u001b[0m\u001b[0m\n\u001b[0;32m      5\u001b[0m \u001b[1;32mfrom\u001b[0m \u001b[0mtensorflow\u001b[0m\u001b[1;33m.\u001b[0m\u001b[0mkeras\u001b[0m\u001b[1;33m.\u001b[0m\u001b[0mlayers\u001b[0m \u001b[1;32mimport\u001b[0m \u001b[0mDense\u001b[0m\u001b[1;33m\u001b[0m\u001b[1;33m\u001b[0m\u001b[0m\n",
      "\u001b[1;31mModuleNotFoundError\u001b[0m: No module named 'tensorflow'"
     ]
    }
   ],
   "source": [
    "import tensorflow\n",
    "from tensorflow.keras.datasets import mnist\n",
    "from tensorflow.keras.utils import to_categorical\n",
    "from tensorflow.keras.models import Sequential\n",
    "from tensorflow.keras.layers import Dense\n",
    "from tensorflow.keras.optimizers import SGD\n",
    "from matplotlib import pyplot as plt"
   ]
  },
  {
   "cell_type": "markdown",
   "metadata": {
    "id": "aNQneCODNZ3B"
   },
   "source": [
    "#### Load data"
   ]
  },
  {
   "cell_type": "code",
   "execution_count": 30,
   "metadata": {
    "executionInfo": {
     "elapsed": 276273,
     "status": "ok",
     "timestamp": 1617715069052,
     "user": {
      "displayName": "Steele Russell",
      "photoUrl": "https://lh3.googleusercontent.com/a-/AOh14GgDAWJJ1_t0KxSDz4AP23E7GOs608xo6StSUqoF=s64",
      "userId": "00642755971909510180"
     },
     "user_tz": 300
    },
    "id": "B04C1t0LNZ3B",
    "scrolled": true
   },
   "outputs": [],
   "source": [
    "(X_train, y_train), (X_valid, y_valid) = mnist.load_data()"
   ]
  },
  {
   "cell_type": "code",
   "execution_count": 31,
   "metadata": {
    "colab": {
     "base_uri": "https://localhost:8080/"
    },
    "executionInfo": {
     "elapsed": 276269,
     "status": "ok",
     "timestamp": 1617715069053,
     "user": {
      "displayName": "Steele Russell",
      "photoUrl": "https://lh3.googleusercontent.com/a-/AOh14GgDAWJJ1_t0KxSDz4AP23E7GOs608xo6StSUqoF=s64",
      "userId": "00642755971909510180"
     },
     "user_tz": 300
    },
    "id": "kfkHqqZFNZ3B",
    "outputId": "4bf965a5-03db-4f8c-8553-d9683ddbcfbb"
   },
   "outputs": [
    {
     "data": {
      "text/plain": [
       "(60000, 28, 28)"
      ]
     },
     "execution_count": 31,
     "metadata": {
      "tags": []
     },
     "output_type": "execute_result"
    }
   ],
   "source": [
    "X_train.shape"
   ]
  },
  {
   "cell_type": "code",
   "execution_count": 32,
   "metadata": {
    "colab": {
     "base_uri": "https://localhost:8080/"
    },
    "executionInfo": {
     "elapsed": 276266,
     "status": "ok",
     "timestamp": 1617715069054,
     "user": {
      "displayName": "Steele Russell",
      "photoUrl": "https://lh3.googleusercontent.com/a-/AOh14GgDAWJJ1_t0KxSDz4AP23E7GOs608xo6StSUqoF=s64",
      "userId": "00642755971909510180"
     },
     "user_tz": 300
    },
    "id": "m3ZJzGrNNZ3C",
    "outputId": "30f0a45a-97b0-4455-bd80-e1b6b3822fac"
   },
   "outputs": [
    {
     "data": {
      "text/plain": [
       "(60000,)"
      ]
     },
     "execution_count": 32,
     "metadata": {
      "tags": []
     },
     "output_type": "execute_result"
    }
   ],
   "source": [
    "y_train.shape"
   ]
  },
  {
   "cell_type": "code",
   "execution_count": 33,
   "metadata": {
    "colab": {
     "base_uri": "https://localhost:8080/"
    },
    "executionInfo": {
     "elapsed": 276382,
     "status": "ok",
     "timestamp": 1617715069175,
     "user": {
      "displayName": "Steele Russell",
      "photoUrl": "https://lh3.googleusercontent.com/a-/AOh14GgDAWJJ1_t0KxSDz4AP23E7GOs608xo6StSUqoF=s64",
      "userId": "00642755971909510180"
     },
     "user_tz": 300
    },
    "id": "htdgUCwHNZ3C",
    "outputId": "8c23a34f-b716-47ad-f77d-bccaf8c45931"
   },
   "outputs": [
    {
     "data": {
      "text/plain": [
       "array([5, 0, 4, 1, 9, 2, 1, 3, 1, 4, 3, 5], dtype=uint8)"
      ]
     },
     "execution_count": 33,
     "metadata": {
      "tags": []
     },
     "output_type": "execute_result"
    }
   ],
   "source": [
    "y_train[0:12]"
   ]
  },
  {
   "cell_type": "code",
   "execution_count": 34,
   "metadata": {
    "colab": {
     "base_uri": "https://localhost:8080/",
     "height": 369
    },
    "executionInfo": {
     "elapsed": 278126,
     "status": "ok",
     "timestamp": 1617715070923,
     "user": {
      "displayName": "Steele Russell",
      "photoUrl": "https://lh3.googleusercontent.com/a-/AOh14GgDAWJJ1_t0KxSDz4AP23E7GOs608xo6StSUqoF=s64",
      "userId": "00642755971909510180"
     },
     "user_tz": 300
    },
    "id": "LV8e0zIYNZ3D",
    "outputId": "c2138c0c-8ad9-4447-ee80-227e3b05657b"
   },
   "outputs": [
    {
     "data": {
      "image/png": "[encoded data removed]",
      "text/plain": [
       "<Figure size 360x360 with 12 Axes>"
      ]
     },
     "metadata": {
      "needs_background": "light",
      "tags": []
     },
     "output_type": "display_data"
    }
   ],
   "source": [
    "plt.figure(figsize=(5,5))\n",
    "for k in range(12):\n",
    "    plt.subplot(4, 3, k+1)\n",
    "    plt.imshow(X_train[k], cmap='Greys')\n",
    "    plt.axis('on')\n",
    "plt.tight_layout()\n",
    "plt.show()"
   ]
  },
  {
   "cell_type": "code",
   "execution_count": 35,
   "metadata": {
    "colab": {
     "base_uri": "https://localhost:8080/"
    },
    "executionInfo": {
     "elapsed": 278122,
     "status": "ok",
     "timestamp": 1617715070924,
     "user": {
      "displayName": "Steele Russell",
      "photoUrl": "https://lh3.googleusercontent.com/a-/AOh14GgDAWJJ1_t0KxSDz4AP23E7GOs608xo6StSUqoF=s64",
      "userId": "00642755971909510180"
     },
     "user_tz": 300
    },
    "id": "rWsj0okXNZ3D",
    "outputId": "93dab604-6599-4c6b-c37f-d5b0927f3909"
   },
   "outputs": [
    {
     "data": {
      "text/plain": [
       "(10000, 28, 28)"
      ]
     },
     "execution_count": 35,
     "metadata": {
      "tags": []
     },
     "output_type": "execute_result"
    }
   ],
   "source": [
    "X_valid.shape"
   ]
  },
  {
   "cell_type": "code",
   "execution_count": 36,
   "metadata": {
    "colab": {
     "base_uri": "https://localhost:8080/"
    },
    "executionInfo": {
     "elapsed": 278119,
     "status": "ok",
     "timestamp": 1617715070925,
     "user": {
      "displayName": "Steele Russell",
      "photoUrl": "https://lh3.googleusercontent.com/a-/AOh14GgDAWJJ1_t0KxSDz4AP23E7GOs608xo6StSUqoF=s64",
      "userId": "00642755971909510180"
     },
     "user_tz": 300
    },
    "id": "g00w7qZGNZ3D",
    "outputId": "3b24ba76-b5f5-49ff-e44f-ee3d37ede3ff"
   },
   "outputs": [
    {
     "data": {
      "text/plain": [
       "(10000,)"
      ]
     },
     "execution_count": 36,
     "metadata": {
      "tags": []
     },
     "output_type": "execute_result"
    }
   ],
   "source": [
    "y_valid.shape"
   ]
  },
  {
   "cell_type": "code",
   "execution_count": 37,
   "metadata": {
    "colab": {
     "base_uri": "https://localhost:8080/",
     "height": 283
    },
    "executionInfo": {
     "elapsed": 278395,
     "status": "ok",
     "timestamp": 1617715071206,
     "user": {
      "displayName": "Steele Russell",
      "photoUrl": "https://lh3.googleusercontent.com/a-/AOh14GgDAWJJ1_t0KxSDz4AP23E7GOs608xo6StSUqoF=s64",
      "userId": "00642755971909510180"
     },
     "user_tz": 300
    },
    "id": "ll0jmqLENZ3D",
    "outputId": "98145563-926e-4d16-c119-a8c11ff7e8cc"
   },
   "outputs": [
    {
     "data": {
      "text/plain": [
       "<matplotlib.image.AxesImage at 0x7fb2b55be350>"
      ]
     },
     "execution_count": 37,
     "metadata": {
      "tags": []
     },
     "output_type": "execute_result"
    },
    {
     "data": {
      "image/png": "[encoded data removed]",
      "text/plain": [
       "<Figure size 432x288 with 1 Axes>"
      ]
     },
     "metadata": {
      "needs_background": "light",
      "tags": []
     },
     "output_type": "display_data"
    }
   ],
   "source": [
    "plt.imshow(X_valid[1], cmap='Greys')"
   ]
  },
  {
   "cell_type": "code",
   "execution_count": 38,
   "metadata": {
    "colab": {
     "base_uri": "https://localhost:8080/"
    },
    "executionInfo": {
     "elapsed": 278392,
     "status": "ok",
     "timestamp": 1617715071207,
     "user": {
      "displayName": "Steele Russell",
      "photoUrl": "https://lh3.googleusercontent.com/a-/AOh14GgDAWJJ1_t0KxSDz4AP23E7GOs608xo6StSUqoF=s64",
      "userId": "00642755971909510180"
     },
     "user_tz": 300
    },
    "id": "n2ciTXwhNZ3E",
    "outputId": "aff30e15-a922-4b9d-a2a2-930ea82f0d90"
   },
   "outputs": [
    {
     "data": {
      "text/plain": [
       "array([[  0,   0,   0,   0,   0,   0,   0,   0,   0,   0,   0,   0,   0,\n",
       "          0,   0,   0,   0,   0,   0,   0,   0,   0,   0,   0,   0,   0,\n",
       "          0,   0],\n",
       "       [  0,   0,   0,   0,   0,   0,   0,   0,   0,   0,   0,   0,   0,\n",
       "          0,   0,   0,   0,   0,   0,   0,   0,   0,   0,   0,   0,   0,\n",
       "          0,   0],\n",
       "       [  0,   0,   0,   0,   0,   0,   0,   0,   0,   0,   0,   0,   0,\n",
       "          0,   0,   0,   0,   0,   0,   0,   0,   0,   0,   0,   0,   0,\n",
       "          0,   0],\n",
       "       [  0,   0,   0,   0,   0,   0,   0,   0,   0,   0, 116, 125, 171,\n",
       "        255, 255, 150,  93,   0,   0,   0,   0,   0,   0,   0,   0,   0,\n",
       "          0,   0],\n",
       "       [  0,   0,   0,   0,   0,   0,   0,   0,   0, 169, 253, 253, 253,\n",
       "        253, 253, 253, 218,  30,   0,   0,   0,   0,   0,   0,   0,   0,\n",
       "          0,   0],\n",
       "       [  0,   0,   0,   0,   0,   0,   0,   0, 169, 253, 253, 253, 213,\n",
       "        142, 176, 253, 253, 122,   0,   0,   0,   0,   0,   0,   0,   0,\n",
       "          0,   0],\n",
       "       [  0,   0,   0,   0,   0,   0,   0,  52, 250, 253, 210,  32,  12,\n",
       "          0,   6, 206, 253, 140,   0,   0,   0,   0,   0,   0,   0,   0,\n",
       "          0,   0],\n",
       "       [  0,   0,   0,   0,   0,   0,   0,  77, 251, 210,  25,   0,   0,\n",
       "          0, 122, 248, 253,  65,   0,   0,   0,   0,   0,   0,   0,   0,\n",
       "          0,   0],\n",
       "       [  0,   0,   0,   0,   0,   0,   0,   0,  31,  18,   0,   0,   0,\n",
       "          0, 209, 253, 253,  65,   0,   0,   0,   0,   0,   0,   0,   0,\n",
       "          0,   0],\n",
       "       [  0,   0,   0,   0,   0,   0,   0,   0,   0,   0,   0,   0,   0,\n",
       "        117, 247, 253, 198,  10,   0,   0,   0,   0,   0,   0,   0,   0,\n",
       "          0,   0],\n",
       "       [  0,   0,   0,   0,   0,   0,   0,   0,   0,   0,   0,   0,  76,\n",
       "        247, 253, 231,  63,   0,   0,   0,   0,   0,   0,   0,   0,   0,\n",
       "          0,   0],\n",
       "       [  0,   0,   0,   0,   0,   0,   0,   0,   0,   0,   0,   0, 128,\n",
       "        253, 253, 144,   0,   0,   0,   0,   0,   0,   0,   0,   0,   0,\n",
       "          0,   0],\n",
       "       [  0,   0,   0,   0,   0,   0,   0,   0,   0,   0,   0, 176, 246,\n",
       "        253, 159,  12,   0,   0,   0,   0,   0,   0,   0,   0,   0,   0,\n",
       "          0,   0],\n",
       "       [  0,   0,   0,   0,   0,   0,   0,   0,   0,   0,  25, 234, 253,\n",
       "        233,  35,   0,   0,   0,   0,   0,   0,   0,   0,   0,   0,   0,\n",
       "          0,   0],\n",
       "       [  0,   0,   0,   0,   0,   0,   0,   0,   0,   0, 198, 253, 253,\n",
       "        141,   0,   0,   0,   0,   0,   0,   0,   0,   0,   0,   0,   0,\n",
       "          0,   0],\n",
       "       [  0,   0,   0,   0,   0,   0,   0,   0,   0,  78, 248, 253, 189,\n",
       "         12,   0,   0,   0,   0,   0,   0,   0,   0,   0,   0,   0,   0,\n",
       "          0,   0],\n",
       "       [  0,   0,   0,   0,   0,   0,   0,   0,  19, 200, 253, 253, 141,\n",
       "          0,   0,   0,   0,   0,   0,   0,   0,   0,   0,   0,   0,   0,\n",
       "          0,   0],\n",
       "       [  0,   0,   0,   0,   0,   0,   0,   0, 134, 253, 253, 173,  12,\n",
       "          0,   0,   0,   0,   0,   0,   0,   0,   0,   0,   0,   0,   0,\n",
       "          0,   0],\n",
       "       [  0,   0,   0,   0,   0,   0,   0,   0, 248, 253, 253,  25,   0,\n",
       "          0,   0,   0,   0,   0,   0,   0,   0,   0,   0,   0,   0,   0,\n",
       "          0,   0],\n",
       "       [  0,   0,   0,   0,   0,   0,   0,   0, 248, 253, 253,  43,  20,\n",
       "         20,  20,  20,   5,   0,   5,  20,  20,  37, 150, 150, 150, 147,\n",
       "         10,   0],\n",
       "       [  0,   0,   0,   0,   0,   0,   0,   0, 248, 253, 253, 253, 253,\n",
       "        253, 253, 253, 168, 143, 166, 253, 253, 253, 253, 253, 253, 253,\n",
       "        123,   0],\n",
       "       [  0,   0,   0,   0,   0,   0,   0,   0, 174, 253, 253, 253, 253,\n",
       "        253, 253, 253, 253, 253, 253, 253, 249, 247, 247, 169, 117, 117,\n",
       "         57,   0],\n",
       "       [  0,   0,   0,   0,   0,   0,   0,   0,   0, 118, 123, 123, 123,\n",
       "        166, 253, 253, 253, 155, 123, 123,  41,   0,   0,   0,   0,   0,\n",
       "          0,   0],\n",
       "       [  0,   0,   0,   0,   0,   0,   0,   0,   0,   0,   0,   0,   0,\n",
       "          0,   0,   0,   0,   0,   0,   0,   0,   0,   0,   0,   0,   0,\n",
       "          0,   0],\n",
       "       [  0,   0,   0,   0,   0,   0,   0,   0,   0,   0,   0,   0,   0,\n",
       "          0,   0,   0,   0,   0,   0,   0,   0,   0,   0,   0,   0,   0,\n",
       "          0,   0],\n",
       "       [  0,   0,   0,   0,   0,   0,   0,   0,   0,   0,   0,   0,   0,\n",
       "          0,   0,   0,   0,   0,   0,   0,   0,   0,   0,   0,   0,   0,\n",
       "          0,   0],\n",
       "       [  0,   0,   0,   0,   0,   0,   0,   0,   0,   0,   0,   0,   0,\n",
       "          0,   0,   0,   0,   0,   0,   0,   0,   0,   0,   0,   0,   0,\n",
       "          0,   0],\n",
       "       [  0,   0,   0,   0,   0,   0,   0,   0,   0,   0,   0,   0,   0,\n",
       "          0,   0,   0,   0,   0,   0,   0,   0,   0,   0,   0,   0,   0,\n",
       "          0,   0]], dtype=uint8)"
      ]
     },
     "execution_count": 38,
     "metadata": {
      "tags": []
     },
     "output_type": "execute_result"
    }
   ],
   "source": [
    "X_valid[1]"
   ]
  },
  {
   "cell_type": "code",
   "execution_count": 39,
   "metadata": {
    "colab": {
     "base_uri": "https://localhost:8080/"
    },
    "executionInfo": {
     "elapsed": 278388,
     "status": "ok",
     "timestamp": 1617715071207,
     "user": {
      "displayName": "Steele Russell",
      "photoUrl": "https://lh3.googleusercontent.com/a-/AOh14GgDAWJJ1_t0KxSDz4AP23E7GOs608xo6StSUqoF=s64",
      "userId": "00642755971909510180"
     },
     "user_tz": 300
    },
    "id": "DGiCKwOZNZ3E",
    "outputId": "d2bd380d-f7ae-4ac6-b6a6-44ef95c0dbbc"
   },
   "outputs": [
    {
     "data": {
      "text/plain": [
       "2"
      ]
     },
     "execution_count": 39,
     "metadata": {
      "tags": []
     },
     "output_type": "execute_result"
    }
   ],
   "source": [
    "y_valid[1]"
   ]
  },
  {
   "cell_type": "markdown",
   "metadata": {
    "id": "8rbO4cjHNZ3E"
   },
   "source": [
    "#### Preprocess data"
   ]
  },
  {
   "cell_type": "code",
   "execution_count": 40,
   "metadata": {
    "executionInfo": {
     "elapsed": 278486,
     "status": "ok",
     "timestamp": 1617715071309,
     "user": {
      "displayName": "Steele Russell",
      "photoUrl": "https://lh3.googleusercontent.com/a-/AOh14GgDAWJJ1_t0KxSDz4AP23E7GOs608xo6StSUqoF=s64",
      "userId": "00642755971909510180"
     },
     "user_tz": 300
    },
    "id": "JRI8z517NZ3E"
   },
   "outputs": [],
   "source": [
    "X_train = X_train.reshape(60000, 784).astype('float32')\n",
    "X_valid = X_valid.reshape(10000, 784).astype('float32')"
   ]
  },
  {
   "cell_type": "code",
   "execution_count": 41,
   "metadata": {
    "executionInfo": {
     "elapsed": 278587,
     "status": "ok",
     "timestamp": 1617715071412,
     "user": {
      "displayName": "Steele Russell",
      "photoUrl": "https://lh3.googleusercontent.com/a-/AOh14GgDAWJJ1_t0KxSDz4AP23E7GOs608xo6StSUqoF=s64",
      "userId": "00642755971909510180"
     },
     "user_tz": 300
    },
    "id": "h-rS3o1NNZ3E"
   },
   "outputs": [],
   "source": [
    "X_train /= 255\n",
    "X_valid /= 255"
   ]
  },
  {
   "cell_type": "code",
   "execution_count": 42,
   "metadata": {
    "colab": {
     "base_uri": "https://localhost:8080/"
    },
    "executionInfo": {
     "elapsed": 278585,
     "status": "ok",
     "timestamp": 1617715071413,
     "user": {
      "displayName": "Steele Russell",
      "photoUrl": "https://lh3.googleusercontent.com/a-/AOh14GgDAWJJ1_t0KxSDz4AP23E7GOs608xo6StSUqoF=s64",
      "userId": "00642755971909510180"
     },
     "user_tz": 300
    },
    "id": "Fc1dAKLRNZ3F",
    "outputId": "e6522500-c2cf-43d2-bfa3-d45a219023a7"
   },
   "outputs": [
    {
     "data": {
      "text/plain": [
       "array([0.        , 0.        , 0.        , 0.        , 0.        ,\n",
       "       0.        , 0.        , 0.        , 0.        , 0.        ,\n",
       "       0.        , 0.        , 0.        , 0.        , 0.        ,\n",
       "       0.        , 0.        , 0.        , 0.        , 0.        ,\n",
       "       0.        , 0.        , 0.        , 0.        , 0.        ,\n",
       "       0.        , 0.        , 0.        , 0.        , 0.        ,\n",
       "       0.        , 0.        , 0.        , 0.        , 0.        ,\n",
       "       0.        , 0.        , 0.        , 0.        , 0.        ,\n",
       "       0.        , 0.        , 0.        , 0.        , 0.        ,\n",
       "       0.        , 0.        , 0.        , 0.        , 0.        ,\n",
       "       0.        , 0.        , 0.        , 0.        , 0.        ,\n",
       "       0.        , 0.        , 0.        , 0.        , 0.        ,\n",
       "       0.        , 0.        , 0.        , 0.        , 0.        ,\n",
       "       0.        , 0.        , 0.        , 0.        , 0.        ,\n",
       "       0.        , 0.        , 0.        , 0.        , 0.        ,\n",
       "       0.        , 0.        , 0.        , 0.        , 0.        ,\n",
       "       0.        , 0.        , 0.        , 0.        , 0.        ,\n",
       "       0.        , 0.        , 0.        , 0.        , 0.        ,\n",
       "       0.        , 0.        , 0.        , 0.        , 0.        ,\n",
       "       0.        , 0.        , 0.        , 0.        , 0.        ,\n",
       "       0.        , 0.        , 0.        , 0.        , 0.        ,\n",
       "       0.        , 0.        , 0.        , 0.        , 0.        ,\n",
       "       0.        , 0.        , 0.        , 0.        , 0.        ,\n",
       "       0.        , 0.        , 0.        , 0.        , 0.        ,\n",
       "       0.        , 0.        , 0.        , 0.        , 0.        ,\n",
       "       0.        , 0.        , 0.        , 0.        , 0.        ,\n",
       "       0.        , 0.        , 0.        , 0.        , 0.        ,\n",
       "       0.        , 0.        , 0.        , 0.        , 0.        ,\n",
       "       0.        , 0.        , 0.        , 0.        , 0.        ,\n",
       "       0.        , 0.        , 0.        , 0.        , 0.        ,\n",
       "       0.        , 0.        , 0.        , 0.        , 0.        ,\n",
       "       0.        , 0.        , 0.        , 0.        , 0.        ,\n",
       "       0.        , 0.        , 0.        , 0.        , 0.        ,\n",
       "       0.        , 0.        , 0.        , 0.        , 0.        ,\n",
       "       0.        , 0.        , 0.        , 0.        , 0.        ,\n",
       "       0.        , 0.        , 0.        , 0.        , 0.        ,\n",
       "       0.        , 0.        , 0.        , 0.        , 0.        ,\n",
       "       0.        , 0.        , 0.        , 0.        , 0.        ,\n",
       "       0.        , 0.        , 0.        , 0.        , 0.        ,\n",
       "       0.        , 0.        , 0.        , 0.        , 0.        ,\n",
       "       0.        , 0.        , 0.32941177, 0.7254902 , 0.62352943,\n",
       "       0.5921569 , 0.23529412, 0.14117648, 0.        , 0.        ,\n",
       "       0.        , 0.        , 0.        , 0.        , 0.        ,\n",
       "       0.        , 0.        , 0.        , 0.        , 0.        ,\n",
       "       0.        , 0.        , 0.        , 0.        , 0.        ,\n",
       "       0.        , 0.        , 0.        , 0.        , 0.        ,\n",
       "       0.87058824, 0.99607843, 0.99607843, 0.99607843, 0.99607843,\n",
       "       0.94509804, 0.7764706 , 0.7764706 , 0.7764706 , 0.7764706 ,\n",
       "       0.7764706 , 0.7764706 , 0.7764706 , 0.7764706 , 0.6666667 ,\n",
       "       0.20392157, 0.        , 0.        , 0.        , 0.        ,\n",
       "       0.        , 0.        , 0.        , 0.        , 0.        ,\n",
       "       0.        , 0.        , 0.        , 0.2627451 , 0.44705883,\n",
       "       0.28235295, 0.44705883, 0.6392157 , 0.8901961 , 0.99607843,\n",
       "       0.88235295, 0.99607843, 0.99607843, 0.99607843, 0.98039216,\n",
       "       0.8980392 , 0.99607843, 0.99607843, 0.54901963, 0.        ,\n",
       "       0.        , 0.        , 0.        , 0.        , 0.        ,\n",
       "       0.        , 0.        , 0.        , 0.        , 0.        ,\n",
       "       0.        , 0.        , 0.        , 0.        , 0.        ,\n",
       "       0.        , 0.06666667, 0.25882354, 0.05490196, 0.2627451 ,\n",
       "       0.2627451 , 0.2627451 , 0.23137255, 0.08235294, 0.9254902 ,\n",
       "       0.99607843, 0.41568628, 0.        , 0.        , 0.        ,\n",
       "       0.        , 0.        , 0.        , 0.        , 0.        ,\n",
       "       0.        , 0.        , 0.        , 0.        , 0.        ,\n",
       "       0.        , 0.        , 0.        , 0.        , 0.        ,\n",
       "       0.        , 0.        , 0.        , 0.        , 0.        ,\n",
       "       0.        , 0.3254902 , 0.99215686, 0.81960785, 0.07058824,\n",
       "       0.        , 0.        , 0.        , 0.        , 0.        ,\n",
       "       0.        , 0.        , 0.        , 0.        , 0.        ,\n",
       "       0.        , 0.        , 0.        , 0.        , 0.        ,\n",
       "       0.        , 0.        , 0.        , 0.        , 0.        ,\n",
       "       0.        , 0.        , 0.        , 0.08627451, 0.9137255 ,\n",
       "       1.        , 0.3254902 , 0.        , 0.        , 0.        ,\n",
       "       0.        , 0.        , 0.        , 0.        , 0.        ,\n",
       "       0.        , 0.        , 0.        , 0.        , 0.        ,\n",
       "       0.        , 0.        , 0.        , 0.        , 0.        ,\n",
       "       0.        , 0.        , 0.        , 0.        , 0.        ,\n",
       "       0.        , 0.5058824 , 0.99607843, 0.93333334, 0.17254902,\n",
       "       0.        , 0.        , 0.        , 0.        , 0.        ,\n",
       "       0.        , 0.        , 0.        , 0.        , 0.        ,\n",
       "       0.        , 0.        , 0.        , 0.        , 0.        ,\n",
       "       0.        , 0.        , 0.        , 0.        , 0.        ,\n",
       "       0.        , 0.        , 0.        , 0.23137255, 0.9764706 ,\n",
       "       0.99607843, 0.24313726, 0.        , 0.        , 0.        ,\n",
       "       0.        , 0.        , 0.        , 0.        , 0.        ,\n",
       "       0.        , 0.        , 0.        , 0.        , 0.        ,\n",
       "       0.        , 0.        , 0.        , 0.        , 0.        ,\n",
       "       0.        , 0.        , 0.        , 0.        , 0.        ,\n",
       "       0.        , 0.52156866, 0.99607843, 0.73333335, 0.01960784,\n",
       "       0.        , 0.        , 0.        , 0.        , 0.        ,\n",
       "       0.        , 0.        , 0.        , 0.        , 0.        ,\n",
       "       0.        , 0.        , 0.        , 0.        , 0.        ,\n",
       "       0.        , 0.        , 0.        , 0.        , 0.        ,\n",
       "       0.        , 0.        , 0.        , 0.03529412, 0.8039216 ,\n",
       "       0.972549  , 0.22745098, 0.        , 0.        , 0.        ,\n",
       "       0.        , 0.        , 0.        , 0.        , 0.        ,\n",
       "       0.        , 0.        , 0.        , 0.        , 0.        ,\n",
       "       0.        , 0.        , 0.        , 0.        , 0.        ,\n",
       "       0.        , 0.        , 0.        , 0.        , 0.        ,\n",
       "       0.        , 0.49411765, 0.99607843, 0.7137255 , 0.        ,\n",
       "       0.        , 0.        , 0.        , 0.        , 0.        ,\n",
       "       0.        , 0.        , 0.        , 0.        , 0.        ,\n",
       "       0.        , 0.        , 0.        , 0.        , 0.        ,\n",
       "       0.        , 0.        , 0.        , 0.        , 0.        ,\n",
       "       0.        , 0.        , 0.        , 0.29411766, 0.9843137 ,\n",
       "       0.9411765 , 0.22352941, 0.        , 0.        , 0.        ,\n",
       "       0.        , 0.        , 0.        , 0.        , 0.        ,\n",
       "       0.        , 0.        , 0.        , 0.        , 0.        ,\n",
       "       0.        , 0.        , 0.        , 0.        , 0.        ,\n",
       "       0.        , 0.        , 0.        , 0.        , 0.        ,\n",
       "       0.07450981, 0.8666667 , 0.99607843, 0.6509804 , 0.        ,\n",
       "       0.        , 0.        , 0.        , 0.        , 0.        ,\n",
       "       0.        , 0.        , 0.        , 0.        , 0.        ,\n",
       "       0.        , 0.        , 0.        , 0.        , 0.        ,\n",
       "       0.        , 0.        , 0.        , 0.        , 0.        ,\n",
       "       0.        , 0.        , 0.01176471, 0.79607844, 0.99607843,\n",
       "       0.85882354, 0.13725491, 0.        , 0.        , 0.        ,\n",
       "       0.        , 0.        , 0.        , 0.        , 0.        ,\n",
       "       0.        , 0.        , 0.        , 0.        , 0.        ,\n",
       "       0.        , 0.        , 0.        , 0.        , 0.        ,\n",
       "       0.        , 0.        , 0.        , 0.        , 0.        ,\n",
       "       0.14901961, 0.99607843, 0.99607843, 0.3019608 , 0.        ,\n",
       "       0.        , 0.        , 0.        , 0.        , 0.        ,\n",
       "       0.        , 0.        , 0.        , 0.        , 0.        ,\n",
       "       0.        , 0.        , 0.        , 0.        , 0.        ,\n",
       "       0.        , 0.        , 0.        , 0.        , 0.        ,\n",
       "       0.        , 0.        , 0.12156863, 0.8784314 , 0.99607843,\n",
       "       0.4509804 , 0.00392157, 0.        , 0.        , 0.        ,\n",
       "       0.        , 0.        , 0.        , 0.        , 0.        ,\n",
       "       0.        , 0.        , 0.        , 0.        , 0.        ,\n",
       "       0.        , 0.        , 0.        , 0.        , 0.        ,\n",
       "       0.        , 0.        , 0.        , 0.        , 0.        ,\n",
       "       0.52156866, 0.99607843, 0.99607843, 0.20392157, 0.        ,\n",
       "       0.        , 0.        , 0.        , 0.        , 0.        ,\n",
       "       0.        , 0.        , 0.        , 0.        , 0.        ,\n",
       "       0.        , 0.        , 0.        , 0.        , 0.        ,\n",
       "       0.        , 0.        , 0.        , 0.        , 0.        ,\n",
       "       0.        , 0.        , 0.23921569, 0.9490196 , 0.99607843,\n",
       "       0.99607843, 0.20392157, 0.        , 0.        , 0.        ,\n",
       "       0.        , 0.        , 0.        , 0.        , 0.        ,\n",
       "       0.        , 0.        , 0.        , 0.        , 0.        ,\n",
       "       0.        , 0.        , 0.        , 0.        , 0.        ,\n",
       "       0.        , 0.        , 0.        , 0.        , 0.        ,\n",
       "       0.4745098 , 0.99607843, 0.99607843, 0.85882354, 0.15686275,\n",
       "       0.        , 0.        , 0.        , 0.        , 0.        ,\n",
       "       0.        , 0.        , 0.        , 0.        , 0.        ,\n",
       "       0.        , 0.        , 0.        , 0.        , 0.        ,\n",
       "       0.        , 0.        , 0.        , 0.        , 0.        ,\n",
       "       0.        , 0.        , 0.        , 0.4745098 , 0.99607843,\n",
       "       0.8117647 , 0.07058824, 0.        , 0.        , 0.        ,\n",
       "       0.        , 0.        , 0.        , 0.        , 0.        ,\n",
       "       0.        , 0.        , 0.        , 0.        , 0.        ,\n",
       "       0.        , 0.        , 0.        , 0.        , 0.        ,\n",
       "       0.        , 0.        , 0.        , 0.        , 0.        ,\n",
       "       0.        , 0.        , 0.        , 0.        , 0.        ,\n",
       "       0.        , 0.        , 0.        , 0.        , 0.        ,\n",
       "       0.        , 0.        , 0.        , 0.        , 0.        ,\n",
       "       0.        , 0.        , 0.        , 0.        ], dtype=float32)"
      ]
     },
     "execution_count": 42,
     "metadata": {
      "tags": []
     },
     "output_type": "execute_result"
    }
   ],
   "source": [
    "X_valid[0]"
   ]
  },
  {
   "cell_type": "code",
   "execution_count": 43,
   "metadata": {
    "executionInfo": {
     "elapsed": 278581,
     "status": "ok",
     "timestamp": 1617715071413,
     "user": {
      "displayName": "Steele Russell",
      "photoUrl": "https://lh3.googleusercontent.com/a-/AOh14GgDAWJJ1_t0KxSDz4AP23E7GOs608xo6StSUqoF=s64",
      "userId": "00642755971909510180"
     },
     "user_tz": 300
    },
    "id": "PdPXVp9cNZ3F"
   },
   "outputs": [],
   "source": [
    "n_classes = 10\n",
    "y_train = to_categorical(y_train, n_classes)\n",
    "y_valid = to_categorical(y_valid, n_classes)"
   ]
  },
  {
   "cell_type": "code",
   "execution_count": 44,
   "metadata": {
    "colab": {
     "base_uri": "https://localhost:8080/"
    },
    "executionInfo": {
     "elapsed": 278579,
     "status": "ok",
     "timestamp": 1617715071413,
     "user": {
      "displayName": "Steele Russell",
      "photoUrl": "https://lh3.googleusercontent.com/a-/AOh14GgDAWJJ1_t0KxSDz4AP23E7GOs608xo6StSUqoF=s64",
      "userId": "00642755971909510180"
     },
     "user_tz": 300
    },
    "id": "b0GxQeHJNZ3F",
    "outputId": "9aa7e004-b62f-4708-a718-22cc9a24f1fb"
   },
   "outputs": [
    {
     "data": {
      "text/plain": [
       "array([0., 0., 0., 0., 0., 0., 0., 1., 0., 0.], dtype=float32)"
      ]
     },
     "execution_count": 44,
     "metadata": {
      "tags": []
     },
     "output_type": "execute_result"
    }
   ],
   "source": [
    "y_valid[0]"
   ]
  },
  {
   "cell_type": "markdown",
   "metadata": {
    "id": "x8n5OGEoNZ3F"
   },
   "source": [
    "#### Design neural network architecture"
   ]
  },
  {
   "cell_type": "code",
   "execution_count": 45,
   "metadata": {
    "executionInfo": {
     "elapsed": 278666,
     "status": "ok",
     "timestamp": 1617715071504,
     "user": {
      "displayName": "Steele Russell",
      "photoUrl": "https://lh3.googleusercontent.com/a-/AOh14GgDAWJJ1_t0KxSDz4AP23E7GOs608xo6StSUqoF=s64",
      "userId": "00642755971909510180"
     },
     "user_tz": 300
    },
    "id": "MzLC0MWUNZ3F"
   },
   "outputs": [],
   "source": [
    "model = Sequential()\n",
    "model.add(Dense(64, activation='sigmoid', input_shape=(784,)))\n",
    "model.add(Dense(10, activation='softmax'))"
   ]
  },
  {
   "cell_type": "code",
   "execution_count": 46,
   "metadata": {
    "colab": {
     "base_uri": "https://localhost:8080/"
    },
    "executionInfo": {
     "elapsed": 278664,
     "status": "ok",
     "timestamp": 1617715071504,
     "user": {
      "displayName": "Steele Russell",
      "photoUrl": "https://lh3.googleusercontent.com/a-/AOh14GgDAWJJ1_t0KxSDz4AP23E7GOs608xo6StSUqoF=s64",
      "userId": "00642755971909510180"
     },
     "user_tz": 300
    },
    "id": "LWIOr6BZNZ3G",
    "outputId": "6488c720-ce74-4109-879a-0a506b332d3d"
   },
   "outputs": [
    {
     "name": "stdout",
     "output_type": "stream",
     "text": [
      "Model: \"sequential_1\"\n",
      "_________________________________________________________________\n",
      "Layer (type)                 Output Shape              Param #   \n",
      "=================================================================\n",
      "dense_2 (Dense)              (None, 64)                50240     \n",
      "_________________________________________________________________\n",
      "dense_3 (Dense)              (None, 10)                650       \n",
      "=================================================================\n",
      "Total params: 50,890\n",
      "Trainable params: 50,890\n",
      "Non-trainable params: 0\n",
      "_________________________________________________________________\n"
     ]
    }
   ],
   "source": [
    "model.summary()"
   ]
  },
  {
   "cell_type": "code",
   "execution_count": 47,
   "metadata": {
    "colab": {
     "base_uri": "https://localhost:8080/"
    },
    "executionInfo": {
     "elapsed": 278660,
     "status": "ok",
     "timestamp": 1617715071505,
     "user": {
      "displayName": "Steele Russell",
      "photoUrl": "https://lh3.googleusercontent.com/a-/AOh14GgDAWJJ1_t0KxSDz4AP23E7GOs608xo6StSUqoF=s64",
      "userId": "00642755971909510180"
     },
     "user_tz": 300
    },
    "id": "SuHZh13vNZ3G",
    "outputId": "3e323f20-6639-46e8-d9db-7d42960ffe2e"
   },
   "outputs": [
    {
     "data": {
      "text/plain": [
       "50176"
      ]
     },
     "execution_count": 47,
     "metadata": {
      "tags": []
     },
     "output_type": "execute_result"
    }
   ],
   "source": [
    "(64*784)"
   ]
  },
  {
   "cell_type": "code",
   "execution_count": 48,
   "metadata": {
    "colab": {
     "base_uri": "https://localhost:8080/"
    },
    "executionInfo": {
     "elapsed": 278656,
     "status": "ok",
     "timestamp": 1617715071505,
     "user": {
      "displayName": "Steele Russell",
      "photoUrl": "https://lh3.googleusercontent.com/a-/AOh14GgDAWJJ1_t0KxSDz4AP23E7GOs608xo6StSUqoF=s64",
      "userId": "00642755971909510180"
     },
     "user_tz": 300
    },
    "id": "kQuz-9nJNZ3G",
    "outputId": "7e72fb46-4519-4035-f08c-f327c60bb95d"
   },
   "outputs": [
    {
     "data": {
      "text/plain": [
       "50240"
      ]
     },
     "execution_count": 48,
     "metadata": {
      "tags": []
     },
     "output_type": "execute_result"
    }
   ],
   "source": [
    "(64*784)+64"
   ]
  },
  {
   "cell_type": "code",
   "execution_count": 49,
   "metadata": {
    "colab": {
     "base_uri": "https://localhost:8080/"
    },
    "executionInfo": {
     "elapsed": 278653,
     "status": "ok",
     "timestamp": 1617715071506,
     "user": {
      "displayName": "Steele Russell",
      "photoUrl": "https://lh3.googleusercontent.com/a-/AOh14GgDAWJJ1_t0KxSDz4AP23E7GOs608xo6StSUqoF=s64",
      "userId": "00642755971909510180"
     },
     "user_tz": 300
    },
    "id": "whHKHFw0NZ3G",
    "outputId": "b74e9b89-3d0e-4b99-d6eb-5e745d253ddc"
   },
   "outputs": [
    {
     "data": {
      "text/plain": [
       "650"
      ]
     },
     "execution_count": 49,
     "metadata": {
      "tags": []
     },
     "output_type": "execute_result"
    }
   ],
   "source": [
    "(10*64)+10"
   ]
  },
  {
   "cell_type": "markdown",
   "metadata": {
    "id": "1pPId_QkNZ3G"
   },
   "source": [
    "#### Configure model"
   ]
  },
  {
   "cell_type": "code",
   "execution_count": 50,
   "metadata": {
    "executionInfo": {
     "elapsed": 279199,
     "status": "ok",
     "timestamp": 1617715072055,
     "user": {
      "displayName": "Steele Russell",
      "photoUrl": "https://lh3.googleusercontent.com/a-/AOh14GgDAWJJ1_t0KxSDz4AP23E7GOs608xo6StSUqoF=s64",
      "userId": "00642755971909510180"
     },
     "user_tz": 300
    },
    "id": "AsVIfWIqNZ3H"
   },
   "outputs": [],
   "source": [
    "model.compile(loss='mean_squared_error', optimizer=SGD(lr=0.01), metrics=['accuracy'])"
   ]
  },
  {
   "cell_type": "markdown",
   "metadata": {
    "id": "XVIuAZIzNZ3H"
   },
   "source": [
    "#### Train!"
   ]
  },
  {
   "cell_type": "code",
   "execution_count": 24,
   "metadata": {
    "colab": {
     "base_uri": "https://localhost:8080/"
    },
    "executionInfo": {
     "elapsed": 288303,
     "status": "ok",
     "timestamp": 1617715067976,
     "user": {
      "displayName": "Steele Russell",
      "photoUrl": "https://lh3.googleusercontent.com/a-/AOh14GgDAWJJ1_t0KxSDz4AP23E7GOs608xo6StSUqoF=s64",
      "userId": "00642755971909510180"
     },
     "user_tz": 300
    },
    "id": "l3p5tjyyNZ3H",
    "outputId": "bd05a090-9455-4811-8af1-bc30d535ab11"
   },
   "outputs": [
    {
     "name": "stdout",
     "output_type": "stream",
     "text": [
      "Epoch 1/200\n",
      "469/469 [==============================] - 2s 4ms/step - loss: 0.0931 - accuracy: 0.0845 - val_loss: 0.0917 - val_accuracy: 0.0947\n",
      "Epoch 2/200\n",
      "469/469 [==============================] - 1s 3ms/step - loss: 0.0915 - accuracy: 0.1015 - val_loss: 0.0908 - val_accuracy: 0.1104\n",
      "Epoch 3/200\n",
      "469/469 [==============================] - 1s 3ms/step - loss: 0.0906 - accuracy: 0.1211 - val_loss: 0.0901 - val_accuracy: 0.1475\n",
      "Epoch 4/200\n",
      "469/469 [==============================] - 1s 3ms/step - loss: 0.0901 - accuracy: 0.1595 - val_loss: 0.0897 - val_accuracy: 0.1990\n",
      "Epoch 5/200\n",
      "469/469 [==============================] - 1s 3ms/step - loss: 0.0896 - accuracy: 0.2060 - val_loss: 0.0892 - val_accuracy: 0.2353\n",
      "Epoch 6/200\n",
      "469/469 [==============================] - 1s 3ms/step - loss: 0.0892 - accuracy: 0.2408 - val_loss: 0.0889 - val_accuracy: 0.2566\n",
      "Epoch 7/200\n",
      "469/469 [==============================] - 1s 3ms/step - loss: 0.0888 - accuracy: 0.2630 - val_loss: 0.0885 - val_accuracy: 0.2803\n",
      "Epoch 8/200\n",
      "469/469 [==============================] - 1s 3ms/step - loss: 0.0885 - accuracy: 0.2806 - val_loss: 0.0882 - val_accuracy: 0.2994\n",
      "Epoch 9/200\n",
      "469/469 [==============================] - 1s 3ms/step - loss: 0.0881 - accuracy: 0.2986 - val_loss: 0.0878 - val_accuracy: 0.3156\n",
      "Epoch 10/200\n",
      "469/469 [==============================] - 1s 3ms/step - loss: 0.0878 - accuracy: 0.3182 - val_loss: 0.0875 - val_accuracy: 0.3307\n",
      "Epoch 11/200\n",
      "469/469 [==============================] - 1s 3ms/step - loss: 0.0875 - accuracy: 0.3313 - val_loss: 0.0871 - val_accuracy: 0.3421\n",
      "Epoch 12/200\n",
      "469/469 [==============================] - 1s 3ms/step - loss: 0.0871 - accuracy: 0.3432 - val_loss: 0.0868 - val_accuracy: 0.3544\n",
      "Epoch 13/200\n",
      "469/469 [==============================] - 1s 3ms/step - loss: 0.0868 - accuracy: 0.3550 - val_loss: 0.0865 - val_accuracy: 0.3658\n",
      "Epoch 14/200\n",
      "469/469 [==============================] - 1s 3ms/step - loss: 0.0865 - accuracy: 0.3633 - val_loss: 0.0861 - val_accuracy: 0.3738\n",
      "Epoch 15/200\n",
      "469/469 [==============================] - 1s 3ms/step - loss: 0.0861 - accuracy: 0.3695 - val_loss: 0.0858 - val_accuracy: 0.3799\n",
      "Epoch 16/200\n",
      "469/469 [==============================] - 1s 3ms/step - loss: 0.0858 - accuracy: 0.3735 - val_loss: 0.0854 - val_accuracy: 0.3832\n",
      "Epoch 17/200\n",
      "469/469 [==============================] - 1s 3ms/step - loss: 0.0855 - accuracy: 0.3757 - val_loss: 0.0851 - val_accuracy: 0.3862\n",
      "Epoch 18/200\n",
      "469/469 [==============================] - 1s 3ms/step - loss: 0.0851 - accuracy: 0.3786 - val_loss: 0.0847 - val_accuracy: 0.3886\n",
      "Epoch 19/200\n",
      "469/469 [==============================] - 1s 3ms/step - loss: 0.0848 - accuracy: 0.3824 - val_loss: 0.0843 - val_accuracy: 0.3918\n",
      "Epoch 20/200\n",
      "469/469 [==============================] - 1s 3ms/step - loss: 0.0845 - accuracy: 0.3827 - val_loss: 0.0840 - val_accuracy: 0.3961\n",
      "Epoch 21/200\n",
      "469/469 [==============================] - 1s 3ms/step - loss: 0.0840 - accuracy: 0.3912 - val_loss: 0.0836 - val_accuracy: 0.3989\n",
      "Epoch 22/200\n",
      "469/469 [==============================] - 1s 3ms/step - loss: 0.0836 - accuracy: 0.3974 - val_loss: 0.0832 - val_accuracy: 0.4035\n",
      "Epoch 23/200\n",
      "469/469 [==============================] - 1s 3ms/step - loss: 0.0833 - accuracy: 0.3976 - val_loss: 0.0828 - val_accuracy: 0.4078\n",
      "Epoch 24/200\n",
      "469/469 [==============================] - 1s 3ms/step - loss: 0.0829 - accuracy: 0.4038 - val_loss: 0.0824 - val_accuracy: 0.4137\n",
      "Epoch 25/200\n",
      "469/469 [==============================] - 1s 3ms/step - loss: 0.0825 - accuracy: 0.4074 - val_loss: 0.0820 - val_accuracy: 0.4176\n",
      "Epoch 26/200\n",
      "469/469 [==============================] - 1s 3ms/step - loss: 0.0821 - accuracy: 0.4126 - val_loss: 0.0815 - val_accuracy: 0.4229\n",
      "Epoch 27/200\n",
      "469/469 [==============================] - 1s 3ms/step - loss: 0.0816 - accuracy: 0.4189 - val_loss: 0.0811 - val_accuracy: 0.4303\n",
      "Epoch 28/200\n",
      "469/469 [==============================] - 1s 3ms/step - loss: 0.0812 - accuracy: 0.4234 - val_loss: 0.0807 - val_accuracy: 0.4360\n",
      "Epoch 29/200\n",
      "469/469 [==============================] - 1s 3ms/step - loss: 0.0809 - accuracy: 0.4280 - val_loss: 0.0802 - val_accuracy: 0.4422\n",
      "Epoch 30/200\n",
      "469/469 [==============================] - 1s 3ms/step - loss: 0.0804 - accuracy: 0.4363 - val_loss: 0.0798 - val_accuracy: 0.4495\n",
      "Epoch 31/200\n",
      "469/469 [==============================] - 1s 3ms/step - loss: 0.0800 - accuracy: 0.4420 - val_loss: 0.0793 - val_accuracy: 0.4563\n",
      "Epoch 32/200\n",
      "469/469 [==============================] - 1s 3ms/step - loss: 0.0795 - accuracy: 0.4512 - val_loss: 0.0789 - val_accuracy: 0.4638\n",
      "Epoch 33/200\n",
      "469/469 [==============================] - 1s 3ms/step - loss: 0.0790 - accuracy: 0.4602 - val_loss: 0.0784 - val_accuracy: 0.4702\n",
      "Epoch 34/200\n",
      "469/469 [==============================] - 1s 3ms/step - loss: 0.0786 - accuracy: 0.4639 - val_loss: 0.0780 - val_accuracy: 0.4776\n",
      "Epoch 35/200\n",
      "469/469 [==============================] - 1s 3ms/step - loss: 0.0782 - accuracy: 0.4762 - val_loss: 0.0775 - val_accuracy: 0.4843\n",
      "Epoch 36/200\n",
      "469/469 [==============================] - 1s 3ms/step - loss: 0.0777 - accuracy: 0.4801 - val_loss: 0.0770 - val_accuracy: 0.4923\n",
      "Epoch 37/200\n",
      "469/469 [==============================] - 1s 3ms/step - loss: 0.0772 - accuracy: 0.4898 - val_loss: 0.0765 - val_accuracy: 0.5014\n",
      "Epoch 38/200\n",
      "469/469 [==============================] - 1s 3ms/step - loss: 0.0768 - accuracy: 0.4962 - val_loss: 0.0760 - val_accuracy: 0.5092\n",
      "Epoch 39/200\n",
      "469/469 [==============================] - 1s 3ms/step - loss: 0.0764 - accuracy: 0.5039 - val_loss: 0.0756 - val_accuracy: 0.5165\n",
      "Epoch 40/200\n",
      "469/469 [==============================] - 1s 3ms/step - loss: 0.0758 - accuracy: 0.5129 - val_loss: 0.0751 - val_accuracy: 0.5244\n",
      "Epoch 41/200\n",
      "469/469 [==============================] - 1s 3ms/step - loss: 0.0753 - accuracy: 0.5197 - val_loss: 0.0746 - val_accuracy: 0.5316\n",
      "Epoch 42/200\n",
      "469/469 [==============================] - 1s 3ms/step - loss: 0.0748 - accuracy: 0.5325 - val_loss: 0.0741 - val_accuracy: 0.5401\n",
      "Epoch 43/200\n",
      "469/469 [==============================] - 1s 3ms/step - loss: 0.0743 - accuracy: 0.5387 - val_loss: 0.0736 - val_accuracy: 0.5458\n",
      "Epoch 44/200\n",
      "469/469 [==============================] - 1s 3ms/step - loss: 0.0740 - accuracy: 0.5412 - val_loss: 0.0731 - val_accuracy: 0.5530\n",
      "Epoch 45/200\n",
      "469/469 [==============================] - 1s 3ms/step - loss: 0.0733 - accuracy: 0.5477 - val_loss: 0.0726 - val_accuracy: 0.5600\n",
      "Epoch 46/200\n",
      "469/469 [==============================] - 1s 3ms/step - loss: 0.0729 - accuracy: 0.5535 - val_loss: 0.0721 - val_accuracy: 0.5644\n",
      "Epoch 47/200\n",
      "469/469 [==============================] - 1s 3ms/step - loss: 0.0724 - accuracy: 0.5615 - val_loss: 0.0716 - val_accuracy: 0.5701\n",
      "Epoch 48/200\n",
      "469/469 [==============================] - 1s 3ms/step - loss: 0.0719 - accuracy: 0.5624 - val_loss: 0.0711 - val_accuracy: 0.5748\n",
      "Epoch 49/200\n",
      "469/469 [==============================] - 1s 3ms/step - loss: 0.0715 - accuracy: 0.5678 - val_loss: 0.0706 - val_accuracy: 0.5810\n",
      "Epoch 50/200\n",
      "469/469 [==============================] - 1s 3ms/step - loss: 0.0710 - accuracy: 0.5738 - val_loss: 0.0701 - val_accuracy: 0.5856\n",
      "Epoch 51/200\n",
      "469/469 [==============================] - 1s 3ms/step - loss: 0.0703 - accuracy: 0.5838 - val_loss: 0.0696 - val_accuracy: 0.5906\n",
      "Epoch 52/200\n",
      "469/469 [==============================] - 1s 3ms/step - loss: 0.0698 - accuracy: 0.5883 - val_loss: 0.0691 - val_accuracy: 0.5957\n",
      "Epoch 53/200\n",
      "469/469 [==============================] - 1s 3ms/step - loss: 0.0694 - accuracy: 0.5921 - val_loss: 0.0686 - val_accuracy: 0.5992\n",
      "Epoch 54/200\n",
      "469/469 [==============================] - 1s 3ms/step - loss: 0.0688 - accuracy: 0.5973 - val_loss: 0.0681 - val_accuracy: 0.6047\n",
      "Epoch 55/200\n",
      "469/469 [==============================] - 1s 3ms/step - loss: 0.0684 - accuracy: 0.5987 - val_loss: 0.0676 - val_accuracy: 0.6099\n",
      "Epoch 56/200\n",
      "469/469 [==============================] - 1s 3ms/step - loss: 0.0679 - accuracy: 0.6046 - val_loss: 0.0671 - val_accuracy: 0.6132\n",
      "Epoch 57/200\n",
      "469/469 [==============================] - 1s 3ms/step - loss: 0.0674 - accuracy: 0.6064 - val_loss: 0.0666 - val_accuracy: 0.6169\n",
      "Epoch 58/200\n",
      "469/469 [==============================] - 1s 3ms/step - loss: 0.0669 - accuracy: 0.6119 - val_loss: 0.0661 - val_accuracy: 0.6208\n",
      "Epoch 59/200\n",
      "469/469 [==============================] - 2s 3ms/step - loss: 0.0666 - accuracy: 0.6144 - val_loss: 0.0656 - val_accuracy: 0.6237\n",
      "Epoch 60/200\n",
      "469/469 [==============================] - 1s 3ms/step - loss: 0.0658 - accuracy: 0.6205 - val_loss: 0.0651 - val_accuracy: 0.6284\n",
      "Epoch 61/200\n",
      "469/469 [==============================] - 1s 3ms/step - loss: 0.0654 - accuracy: 0.6208 - val_loss: 0.0646 - val_accuracy: 0.6318\n",
      "Epoch 62/200\n",
      "469/469 [==============================] - 1s 3ms/step - loss: 0.0650 - accuracy: 0.6237 - val_loss: 0.0641 - val_accuracy: 0.6357\n",
      "Epoch 63/200\n",
      "469/469 [==============================] - 1s 3ms/step - loss: 0.0644 - accuracy: 0.6310 - val_loss: 0.0636 - val_accuracy: 0.6394\n",
      "Epoch 64/200\n",
      "469/469 [==============================] - 1s 3ms/step - loss: 0.0641 - accuracy: 0.6285 - val_loss: 0.0631 - val_accuracy: 0.6417\n",
      "Epoch 65/200\n",
      "469/469 [==============================] - 1s 3ms/step - loss: 0.0634 - accuracy: 0.6383 - val_loss: 0.0626 - val_accuracy: 0.6454\n",
      "Epoch 66/200\n",
      "469/469 [==============================] - 1s 3ms/step - loss: 0.0630 - accuracy: 0.6384 - val_loss: 0.0621 - val_accuracy: 0.6496\n",
      "Epoch 67/200\n",
      "469/469 [==============================] - 2s 3ms/step - loss: 0.0624 - accuracy: 0.6430 - val_loss: 0.0616 - val_accuracy: 0.6529\n",
      "Epoch 68/200\n",
      "469/469 [==============================] - 2s 3ms/step - loss: 0.0620 - accuracy: 0.6468 - val_loss: 0.0611 - val_accuracy: 0.6559\n",
      "Epoch 69/200\n",
      "469/469 [==============================] - 2s 3ms/step - loss: 0.0616 - accuracy: 0.6466 - val_loss: 0.0606 - val_accuracy: 0.6585\n",
      "Epoch 70/200\n",
      "469/469 [==============================] - 2s 3ms/step - loss: 0.0610 - accuracy: 0.6541 - val_loss: 0.0602 - val_accuracy: 0.6620\n",
      "Epoch 71/200\n",
      "469/469 [==============================] - 2s 3ms/step - loss: 0.0606 - accuracy: 0.6565 - val_loss: 0.0597 - val_accuracy: 0.6643\n",
      "Epoch 72/200\n",
      "469/469 [==============================] - 2s 3ms/step - loss: 0.0604 - accuracy: 0.6558 - val_loss: 0.0592 - val_accuracy: 0.6674\n",
      "Epoch 73/200\n",
      "469/469 [==============================] - 1s 3ms/step - loss: 0.0596 - accuracy: 0.6613 - val_loss: 0.0587 - val_accuracy: 0.6700\n",
      "Epoch 74/200\n",
      "469/469 [==============================] - 1s 3ms/step - loss: 0.0591 - accuracy: 0.6638 - val_loss: 0.0583 - val_accuracy: 0.6737\n",
      "Epoch 75/200\n",
      "469/469 [==============================] - 1s 3ms/step - loss: 0.0587 - accuracy: 0.6676 - val_loss: 0.0578 - val_accuracy: 0.6769\n",
      "Epoch 76/200\n",
      "469/469 [==============================] - 1s 3ms/step - loss: 0.0584 - accuracy: 0.6695 - val_loss: 0.0574 - val_accuracy: 0.6801\n",
      "Epoch 77/200\n",
      "469/469 [==============================] - 1s 3ms/step - loss: 0.0579 - accuracy: 0.6734 - val_loss: 0.0569 - val_accuracy: 0.6836\n",
      "Epoch 78/200\n",
      "469/469 [==============================] - 1s 3ms/step - loss: 0.0573 - accuracy: 0.6779 - val_loss: 0.0565 - val_accuracy: 0.6866\n",
      "Epoch 79/200\n",
      "469/469 [==============================] - 1s 3ms/step - loss: 0.0570 - accuracy: 0.6780 - val_loss: 0.0560 - val_accuracy: 0.6905\n",
      "Epoch 80/200\n",
      "469/469 [==============================] - 1s 3ms/step - loss: 0.0565 - accuracy: 0.6831 - val_loss: 0.0556 - val_accuracy: 0.6941\n",
      "Epoch 81/200\n",
      "469/469 [==============================] - 1s 3ms/step - loss: 0.0566 - accuracy: 0.6762 - val_loss: 0.0552 - val_accuracy: 0.6971\n",
      "Epoch 82/200\n",
      "469/469 [==============================] - 1s 3ms/step - loss: 0.0559 - accuracy: 0.6838 - val_loss: 0.0547 - val_accuracy: 0.7003\n",
      "Epoch 83/200\n",
      "469/469 [==============================] - 1s 3ms/step - loss: 0.0553 - accuracy: 0.6888 - val_loss: 0.0543 - val_accuracy: 0.7039\n",
      "Epoch 84/200\n",
      "469/469 [==============================] - 1s 3ms/step - loss: 0.0551 - accuracy: 0.6912 - val_loss: 0.0539 - val_accuracy: 0.7063\n",
      "Epoch 85/200\n",
      "469/469 [==============================] - 2s 3ms/step - loss: 0.0546 - accuracy: 0.6937 - val_loss: 0.0535 - val_accuracy: 0.7084\n",
      "Epoch 86/200\n",
      "469/469 [==============================] - 2s 4ms/step - loss: 0.0541 - accuracy: 0.6981 - val_loss: 0.0531 - val_accuracy: 0.7107\n",
      "Epoch 87/200\n",
      "469/469 [==============================] - 2s 3ms/step - loss: 0.0536 - accuracy: 0.7001 - val_loss: 0.0527 - val_accuracy: 0.7133\n",
      "Epoch 88/200\n",
      "469/469 [==============================] - 1s 3ms/step - loss: 0.0533 - accuracy: 0.7022 - val_loss: 0.0523 - val_accuracy: 0.7178\n",
      "Epoch 89/200\n",
      "469/469 [==============================] - 1s 3ms/step - loss: 0.0529 - accuracy: 0.7077 - val_loss: 0.0519 - val_accuracy: 0.7203\n",
      "Epoch 90/200\n",
      "469/469 [==============================] - 1s 3ms/step - loss: 0.0525 - accuracy: 0.7098 - val_loss: 0.0515 - val_accuracy: 0.7235\n",
      "Epoch 91/200\n",
      "469/469 [==============================] - 1s 3ms/step - loss: 0.0523 - accuracy: 0.7092 - val_loss: 0.0511 - val_accuracy: 0.7266\n",
      "Epoch 92/200\n",
      "469/469 [==============================] - 1s 3ms/step - loss: 0.0519 - accuracy: 0.7104 - val_loss: 0.0507 - val_accuracy: 0.7291\n",
      "Epoch 93/200\n",
      "469/469 [==============================] - 1s 3ms/step - loss: 0.0513 - accuracy: 0.7167 - val_loss: 0.0503 - val_accuracy: 0.7323\n",
      "Epoch 94/200\n",
      "469/469 [==============================] - 1s 3ms/step - loss: 0.0509 - accuracy: 0.7209 - val_loss: 0.0500 - val_accuracy: 0.7349\n",
      "Epoch 95/200\n",
      "469/469 [==============================] - 1s 3ms/step - loss: 0.0506 - accuracy: 0.7225 - val_loss: 0.0496 - val_accuracy: 0.7368\n",
      "Epoch 96/200\n",
      "469/469 [==============================] - 1s 3ms/step - loss: 0.0503 - accuracy: 0.7235 - val_loss: 0.0492 - val_accuracy: 0.7395\n",
      "Epoch 97/200\n",
      "469/469 [==============================] - 1s 3ms/step - loss: 0.0500 - accuracy: 0.7259 - val_loss: 0.0489 - val_accuracy: 0.7418\n",
      "Epoch 98/200\n",
      "469/469 [==============================] - 1s 3ms/step - loss: 0.0494 - accuracy: 0.7308 - val_loss: 0.0485 - val_accuracy: 0.7436\n",
      "Epoch 99/200\n",
      "469/469 [==============================] - 1s 3ms/step - loss: 0.0492 - accuracy: 0.7314 - val_loss: 0.0482 - val_accuracy: 0.7454\n",
      "Epoch 100/200\n",
      "469/469 [==============================] - 1s 3ms/step - loss: 0.0488 - accuracy: 0.7354 - val_loss: 0.0478 - val_accuracy: 0.7468\n",
      "Epoch 101/200\n",
      "469/469 [==============================] - 1s 3ms/step - loss: 0.0485 - accuracy: 0.7371 - val_loss: 0.0475 - val_accuracy: 0.7487\n",
      "Epoch 102/200\n",
      "469/469 [==============================] - 1s 3ms/step - loss: 0.0482 - accuracy: 0.7395 - val_loss: 0.0472 - val_accuracy: 0.7497\n",
      "Epoch 103/200\n",
      "469/469 [==============================] - 1s 3ms/step - loss: 0.0480 - accuracy: 0.7400 - val_loss: 0.0468 - val_accuracy: 0.7521\n",
      "Epoch 104/200\n",
      "469/469 [==============================] - 1s 3ms/step - loss: 0.0477 - accuracy: 0.7420 - val_loss: 0.0465 - val_accuracy: 0.7534\n",
      "Epoch 105/200\n",
      "469/469 [==============================] - 1s 3ms/step - loss: 0.0473 - accuracy: 0.7441 - val_loss: 0.0462 - val_accuracy: 0.7547\n",
      "Epoch 106/200\n",
      "469/469 [==============================] - 1s 3ms/step - loss: 0.0471 - accuracy: 0.7451 - val_loss: 0.0459 - val_accuracy: 0.7563\n",
      "Epoch 107/200\n",
      "469/469 [==============================] - 1s 3ms/step - loss: 0.0467 - accuracy: 0.7455 - val_loss: 0.0455 - val_accuracy: 0.7576\n",
      "Epoch 108/200\n",
      "469/469 [==============================] - 2s 3ms/step - loss: 0.0462 - accuracy: 0.7490 - val_loss: 0.0452 - val_accuracy: 0.7602\n",
      "Epoch 109/200\n",
      "469/469 [==============================] - 1s 3ms/step - loss: 0.0460 - accuracy: 0.7499 - val_loss: 0.0449 - val_accuracy: 0.7623\n",
      "Epoch 110/200\n",
      "469/469 [==============================] - 1s 3ms/step - loss: 0.0456 - accuracy: 0.7527 - val_loss: 0.0446 - val_accuracy: 0.7647\n",
      "Epoch 111/200\n",
      "469/469 [==============================] - 1s 3ms/step - loss: 0.0453 - accuracy: 0.7533 - val_loss: 0.0443 - val_accuracy: 0.7661\n",
      "Epoch 112/200\n",
      "469/469 [==============================] - 1s 3ms/step - loss: 0.0450 - accuracy: 0.7560 - val_loss: 0.0440 - val_accuracy: 0.7682\n",
      "Epoch 113/200\n",
      "469/469 [==============================] - 1s 3ms/step - loss: 0.0446 - accuracy: 0.7600 - val_loss: 0.0437 - val_accuracy: 0.7696\n",
      "Epoch 114/200\n",
      "469/469 [==============================] - 1s 3ms/step - loss: 0.0446 - accuracy: 0.7590 - val_loss: 0.0434 - val_accuracy: 0.7714\n",
      "Epoch 115/200\n",
      "469/469 [==============================] - 1s 3ms/step - loss: 0.0442 - accuracy: 0.7600 - val_loss: 0.0431 - val_accuracy: 0.7729\n",
      "Epoch 116/200\n",
      "469/469 [==============================] - 1s 3ms/step - loss: 0.0439 - accuracy: 0.7617 - val_loss: 0.0429 - val_accuracy: 0.7745\n",
      "Epoch 117/200\n",
      "469/469 [==============================] - 1s 3ms/step - loss: 0.0439 - accuracy: 0.7625 - val_loss: 0.0426 - val_accuracy: 0.7760\n",
      "Epoch 118/200\n",
      "469/469 [==============================] - 1s 3ms/step - loss: 0.0432 - accuracy: 0.7654 - val_loss: 0.0423 - val_accuracy: 0.7773\n",
      "Epoch 119/200\n",
      "469/469 [==============================] - 1s 3ms/step - loss: 0.0432 - accuracy: 0.7650 - val_loss: 0.0420 - val_accuracy: 0.7786\n",
      "Epoch 120/200\n",
      "469/469 [==============================] - 1s 3ms/step - loss: 0.0428 - accuracy: 0.7690 - val_loss: 0.0418 - val_accuracy: 0.7800\n",
      "Epoch 121/200\n",
      "469/469 [==============================] - 1s 3ms/step - loss: 0.0426 - accuracy: 0.7684 - val_loss: 0.0415 - val_accuracy: 0.7810\n",
      "Epoch 122/200\n",
      "469/469 [==============================] - 1s 3ms/step - loss: 0.0422 - accuracy: 0.7727 - val_loss: 0.0412 - val_accuracy: 0.7823\n",
      "Epoch 123/200\n",
      "469/469 [==============================] - 1s 3ms/step - loss: 0.0421 - accuracy: 0.7714 - val_loss: 0.0410 - val_accuracy: 0.7840\n",
      "Epoch 124/200\n",
      "469/469 [==============================] - 1s 3ms/step - loss: 0.0419 - accuracy: 0.7715 - val_loss: 0.0407 - val_accuracy: 0.7852\n",
      "Epoch 125/200\n",
      "469/469 [==============================] - 1s 3ms/step - loss: 0.0415 - accuracy: 0.7756 - val_loss: 0.0404 - val_accuracy: 0.7868\n",
      "Epoch 126/200\n",
      "469/469 [==============================] - 1s 3ms/step - loss: 0.0412 - accuracy: 0.7795 - val_loss: 0.0402 - val_accuracy: 0.7875\n",
      "Epoch 127/200\n",
      "469/469 [==============================] - 2s 3ms/step - loss: 0.0409 - accuracy: 0.7806 - val_loss: 0.0399 - val_accuracy: 0.7903\n",
      "Epoch 128/200\n",
      "469/469 [==============================] - 1s 3ms/step - loss: 0.0407 - accuracy: 0.7814 - val_loss: 0.0397 - val_accuracy: 0.7922\n",
      "Epoch 129/200\n",
      "469/469 [==============================] - 1s 3ms/step - loss: 0.0406 - accuracy: 0.7824 - val_loss: 0.0394 - val_accuracy: 0.7940\n",
      "Epoch 130/200\n",
      "469/469 [==============================] - 1s 3ms/step - loss: 0.0400 - accuracy: 0.7894 - val_loss: 0.0392 - val_accuracy: 0.7964\n",
      "Epoch 131/200\n",
      "469/469 [==============================] - 1s 3ms/step - loss: 0.0401 - accuracy: 0.7857 - val_loss: 0.0390 - val_accuracy: 0.7988\n",
      "Epoch 132/200\n",
      "469/469 [==============================] - 1s 3ms/step - loss: 0.0400 - accuracy: 0.7867 - val_loss: 0.0387 - val_accuracy: 0.7995\n",
      "Epoch 133/200\n",
      "469/469 [==============================] - 1s 3ms/step - loss: 0.0398 - accuracy: 0.7885 - val_loss: 0.0385 - val_accuracy: 0.8014\n",
      "Epoch 134/200\n",
      "469/469 [==============================] - 1s 3ms/step - loss: 0.0393 - accuracy: 0.7929 - val_loss: 0.0382 - val_accuracy: 0.8043\n",
      "Epoch 135/200\n",
      "469/469 [==============================] - 1s 3ms/step - loss: 0.0392 - accuracy: 0.7940 - val_loss: 0.0380 - val_accuracy: 0.8064\n",
      "Epoch 136/200\n",
      "469/469 [==============================] - 1s 3ms/step - loss: 0.0390 - accuracy: 0.7961 - val_loss: 0.0378 - val_accuracy: 0.8078\n",
      "Epoch 137/200\n",
      "469/469 [==============================] - 1s 3ms/step - loss: 0.0385 - accuracy: 0.8013 - val_loss: 0.0376 - val_accuracy: 0.8094\n",
      "Epoch 138/200\n",
      "469/469 [==============================] - 1s 3ms/step - loss: 0.0383 - accuracy: 0.8040 - val_loss: 0.0373 - val_accuracy: 0.8111\n",
      "Epoch 139/200\n",
      "469/469 [==============================] - 1s 3ms/step - loss: 0.0384 - accuracy: 0.8016 - val_loss: 0.0371 - val_accuracy: 0.8131\n",
      "Epoch 140/200\n",
      "469/469 [==============================] - 1s 3ms/step - loss: 0.0380 - accuracy: 0.8026 - val_loss: 0.0369 - val_accuracy: 0.8152\n",
      "Epoch 141/200\n",
      "469/469 [==============================] - 1s 3ms/step - loss: 0.0377 - accuracy: 0.8071 - val_loss: 0.0367 - val_accuracy: 0.8175\n",
      "Epoch 142/200\n",
      "469/469 [==============================] - 1s 3ms/step - loss: 0.0377 - accuracy: 0.8057 - val_loss: 0.0365 - val_accuracy: 0.8191\n",
      "Epoch 143/200\n",
      "469/469 [==============================] - 1s 3ms/step - loss: 0.0371 - accuracy: 0.8118 - val_loss: 0.0362 - val_accuracy: 0.8199\n",
      "Epoch 144/200\n",
      "469/469 [==============================] - 1s 3ms/step - loss: 0.0373 - accuracy: 0.8091 - val_loss: 0.0360 - val_accuracy: 0.8213\n",
      "Epoch 145/200\n",
      "469/469 [==============================] - 2s 3ms/step - loss: 0.0371 - accuracy: 0.8111 - val_loss: 0.0358 - val_accuracy: 0.8229\n",
      "Epoch 146/200\n",
      "469/469 [==============================] - 1s 3ms/step - loss: 0.0366 - accuracy: 0.8165 - val_loss: 0.0356 - val_accuracy: 0.8251\n",
      "Epoch 147/200\n",
      "469/469 [==============================] - 1s 3ms/step - loss: 0.0364 - accuracy: 0.8197 - val_loss: 0.0354 - val_accuracy: 0.8267\n",
      "Epoch 148/200\n",
      "469/469 [==============================] - 1s 3ms/step - loss: 0.0363 - accuracy: 0.8193 - val_loss: 0.0352 - val_accuracy: 0.8287\n",
      "Epoch 149/200\n",
      "469/469 [==============================] - 1s 3ms/step - loss: 0.0358 - accuracy: 0.8214 - val_loss: 0.0350 - val_accuracy: 0.8305\n",
      "Epoch 150/200\n",
      "469/469 [==============================] - 1s 3ms/step - loss: 0.0357 - accuracy: 0.8220 - val_loss: 0.0348 - val_accuracy: 0.8319\n",
      "Epoch 151/200\n",
      "469/469 [==============================] - 1s 3ms/step - loss: 0.0358 - accuracy: 0.8212 - val_loss: 0.0346 - val_accuracy: 0.8332\n",
      "Epoch 152/200\n",
      "469/469 [==============================] - 1s 3ms/step - loss: 0.0356 - accuracy: 0.8216 - val_loss: 0.0344 - val_accuracy: 0.8348\n",
      "Epoch 153/200\n",
      "469/469 [==============================] - 1s 3ms/step - loss: 0.0354 - accuracy: 0.8239 - val_loss: 0.0342 - val_accuracy: 0.8362\n",
      "Epoch 154/200\n",
      "469/469 [==============================] - 1s 3ms/step - loss: 0.0349 - accuracy: 0.8279 - val_loss: 0.0340 - val_accuracy: 0.8364\n",
      "Epoch 155/200\n",
      "469/469 [==============================] - 1s 3ms/step - loss: 0.0349 - accuracy: 0.8276 - val_loss: 0.0338 - val_accuracy: 0.8374\n",
      "Epoch 156/200\n",
      "469/469 [==============================] - 1s 3ms/step - loss: 0.0349 - accuracy: 0.8277 - val_loss: 0.0337 - val_accuracy: 0.8392\n",
      "Epoch 157/200\n",
      "469/469 [==============================] - 1s 3ms/step - loss: 0.0347 - accuracy: 0.8274 - val_loss: 0.0335 - val_accuracy: 0.8403\n",
      "Epoch 158/200\n",
      "469/469 [==============================] - 1s 3ms/step - loss: 0.0343 - accuracy: 0.8304 - val_loss: 0.0333 - val_accuracy: 0.8413\n",
      "Epoch 159/200\n",
      "469/469 [==============================] - 1s 3ms/step - loss: 0.0341 - accuracy: 0.8322 - val_loss: 0.0331 - val_accuracy: 0.8420\n",
      "Epoch 160/200\n",
      "469/469 [==============================] - 2s 3ms/step - loss: 0.0340 - accuracy: 0.8317 - val_loss: 0.0329 - val_accuracy: 0.8426\n",
      "Epoch 161/200\n",
      "469/469 [==============================] - 1s 3ms/step - loss: 0.0338 - accuracy: 0.8337 - val_loss: 0.0328 - val_accuracy: 0.8437\n",
      "Epoch 162/200\n",
      "469/469 [==============================] - 1s 3ms/step - loss: 0.0335 - accuracy: 0.8358 - val_loss: 0.0326 - val_accuracy: 0.8447\n",
      "Epoch 163/200\n",
      "469/469 [==============================] - 1s 3ms/step - loss: 0.0335 - accuracy: 0.8343 - val_loss: 0.0324 - val_accuracy: 0.8455\n",
      "Epoch 164/200\n",
      "469/469 [==============================] - 1s 3ms/step - loss: 0.0332 - accuracy: 0.8373 - val_loss: 0.0322 - val_accuracy: 0.8468\n",
      "Epoch 165/200\n",
      "469/469 [==============================] - 1s 3ms/step - loss: 0.0333 - accuracy: 0.8374 - val_loss: 0.0321 - val_accuracy: 0.8471\n",
      "Epoch 166/200\n",
      "469/469 [==============================] - 1s 3ms/step - loss: 0.0330 - accuracy: 0.8368 - val_loss: 0.0319 - val_accuracy: 0.8480\n",
      "Epoch 167/200\n",
      "469/469 [==============================] - 1s 3ms/step - loss: 0.0329 - accuracy: 0.8391 - val_loss: 0.0317 - val_accuracy: 0.8486\n",
      "Epoch 168/200\n",
      "469/469 [==============================] - 1s 3ms/step - loss: 0.0327 - accuracy: 0.8378 - val_loss: 0.0316 - val_accuracy: 0.8496\n",
      "Epoch 169/200\n",
      "469/469 [==============================] - 1s 3ms/step - loss: 0.0327 - accuracy: 0.8372 - val_loss: 0.0314 - val_accuracy: 0.8503\n",
      "Epoch 170/200\n",
      "469/469 [==============================] - 1s 3ms/step - loss: 0.0326 - accuracy: 0.8371 - val_loss: 0.0313 - val_accuracy: 0.8506\n",
      "Epoch 171/200\n",
      "469/469 [==============================] - 1s 3ms/step - loss: 0.0322 - accuracy: 0.8440 - val_loss: 0.0311 - val_accuracy: 0.8516\n",
      "Epoch 172/200\n",
      "469/469 [==============================] - 1s 3ms/step - loss: 0.0319 - accuracy: 0.8442 - val_loss: 0.0309 - val_accuracy: 0.8526\n",
      "Epoch 173/200\n",
      "469/469 [==============================] - 1s 3ms/step - loss: 0.0318 - accuracy: 0.8433 - val_loss: 0.0308 - val_accuracy: 0.8535\n",
      "Epoch 174/200\n",
      "469/469 [==============================] - 1s 3ms/step - loss: 0.0316 - accuracy: 0.8461 - val_loss: 0.0306 - val_accuracy: 0.8542\n",
      "Epoch 175/200\n",
      "469/469 [==============================] - 1s 3ms/step - loss: 0.0317 - accuracy: 0.8438 - val_loss: 0.0305 - val_accuracy: 0.8550\n",
      "Epoch 176/200\n",
      "469/469 [==============================] - 1s 3ms/step - loss: 0.0315 - accuracy: 0.8460 - val_loss: 0.0303 - val_accuracy: 0.8559\n",
      "Epoch 177/200\n",
      "469/469 [==============================] - 1s 3ms/step - loss: 0.0314 - accuracy: 0.8451 - val_loss: 0.0302 - val_accuracy: 0.8563\n",
      "Epoch 178/200\n",
      "469/469 [==============================] - 1s 3ms/step - loss: 0.0311 - accuracy: 0.8491 - val_loss: 0.0301 - val_accuracy: 0.8571\n",
      "Epoch 179/200\n",
      "469/469 [==============================] - 1s 3ms/step - loss: 0.0309 - accuracy: 0.8490 - val_loss: 0.0299 - val_accuracy: 0.8580\n",
      "Epoch 180/200\n",
      "469/469 [==============================] - 1s 3ms/step - loss: 0.0309 - accuracy: 0.8498 - val_loss: 0.0298 - val_accuracy: 0.8582\n",
      "Epoch 181/200\n",
      "469/469 [==============================] - 1s 3ms/step - loss: 0.0307 - accuracy: 0.8498 - val_loss: 0.0296 - val_accuracy: 0.8584\n",
      "Epoch 182/200\n",
      "469/469 [==============================] - 1s 3ms/step - loss: 0.0305 - accuracy: 0.8499 - val_loss: 0.0295 - val_accuracy: 0.8590\n",
      "Epoch 183/200\n",
      "469/469 [==============================] - 1s 3ms/step - loss: 0.0302 - accuracy: 0.8527 - val_loss: 0.0294 - val_accuracy: 0.8596\n",
      "Epoch 184/200\n",
      "469/469 [==============================] - 1s 3ms/step - loss: 0.0304 - accuracy: 0.8494 - val_loss: 0.0292 - val_accuracy: 0.8604\n",
      "Epoch 185/200\n",
      "469/469 [==============================] - 1s 3ms/step - loss: 0.0304 - accuracy: 0.8497 - val_loss: 0.0291 - val_accuracy: 0.8613\n",
      "Epoch 186/200\n",
      "469/469 [==============================] - 1s 3ms/step - loss: 0.0300 - accuracy: 0.8541 - val_loss: 0.0289 - val_accuracy: 0.8617\n",
      "Epoch 187/200\n",
      "469/469 [==============================] - 1s 3ms/step - loss: 0.0299 - accuracy: 0.8534 - val_loss: 0.0288 - val_accuracy: 0.8624\n",
      "Epoch 188/200\n",
      "469/469 [==============================] - 1s 3ms/step - loss: 0.0298 - accuracy: 0.8531 - val_loss: 0.0287 - val_accuracy: 0.8632\n",
      "Epoch 189/200\n",
      "469/469 [==============================] - 1s 3ms/step - loss: 0.0296 - accuracy: 0.8550 - val_loss: 0.0286 - val_accuracy: 0.8636\n",
      "Epoch 190/200\n",
      "469/469 [==============================] - 1s 3ms/step - loss: 0.0295 - accuracy: 0.8545 - val_loss: 0.0284 - val_accuracy: 0.8635\n",
      "Epoch 191/200\n",
      "469/469 [==============================] - 1s 3ms/step - loss: 0.0293 - accuracy: 0.8557 - val_loss: 0.0283 - val_accuracy: 0.8638\n",
      "Epoch 192/200\n",
      "469/469 [==============================] - 1s 3ms/step - loss: 0.0292 - accuracy: 0.8553 - val_loss: 0.0282 - val_accuracy: 0.8642\n",
      "Epoch 193/200\n",
      "469/469 [==============================] - 1s 3ms/step - loss: 0.0293 - accuracy: 0.8532 - val_loss: 0.0281 - val_accuracy: 0.8645\n",
      "Epoch 194/200\n",
      "469/469 [==============================] - 2s 3ms/step - loss: 0.0290 - accuracy: 0.8561 - val_loss: 0.0279 - val_accuracy: 0.8650\n",
      "Epoch 195/200\n",
      "469/469 [==============================] - 1s 3ms/step - loss: 0.0289 - accuracy: 0.8582 - val_loss: 0.0278 - val_accuracy: 0.8658\n",
      "Epoch 196/200\n",
      "469/469 [==============================] - 1s 3ms/step - loss: 0.0289 - accuracy: 0.8561 - val_loss: 0.0277 - val_accuracy: 0.8662\n",
      "Epoch 197/200\n",
      "469/469 [==============================] - 1s 3ms/step - loss: 0.0288 - accuracy: 0.8575 - val_loss: 0.0276 - val_accuracy: 0.8666\n",
      "Epoch 198/200\n",
      "469/469 [==============================] - 1s 3ms/step - loss: 0.0286 - accuracy: 0.8581 - val_loss: 0.0275 - val_accuracy: 0.8671\n",
      "Epoch 199/200\n",
      "469/469 [==============================] - 1s 3ms/step - loss: 0.0283 - accuracy: 0.8581 - val_loss: 0.0274 - val_accuracy: 0.8675\n",
      "Epoch 200/200\n",
      "469/469 [==============================] - 1s 3ms/step - loss: 0.0284 - accuracy: 0.8574 - val_loss: 0.0273 - val_accuracy: 0.8677\n"
     ]
    },
    {
     "data": {
      "text/plain": [
       "<tensorflow.python.keras.callbacks.History at 0x7fb2b9186590>"
      ]
     },
     "execution_count": 24,
     "metadata": {
      "tags": []
     },
     "output_type": "execute_result"
    }
   ],
   "source": [
    "model.fit(X_train, y_train, batch_size=128, epochs=200, verbose=1, validation_data=(X_valid, y_valid))"
   ]
  },
  {
   "cell_type": "markdown",
   "metadata": {
    "id": "T1ZjJlqsNZ3H"
   },
   "source": [
    "#### Evaluating model performance"
   ]
  },
  {
   "cell_type": "code",
   "execution_count": 25,
   "metadata": {
    "colab": {
     "base_uri": "https://localhost:8080/"
    },
    "executionInfo": {
     "elapsed": 288452,
     "status": "ok",
     "timestamp": 1617715068138,
     "user": {
      "displayName": "Steele Russell",
      "photoUrl": "https://lh3.googleusercontent.com/a-/AOh14GgDAWJJ1_t0KxSDz4AP23E7GOs608xo6StSUqoF=s64",
      "userId": "00642755971909510180"
     },
     "user_tz": 300
    },
    "id": "qDVdIexPNZ3H",
    "outputId": "0fd09857-aa95-4812-da65-d3ae9fb53451"
   },
   "outputs": [
    {
     "name": "stdout",
     "output_type": "stream",
     "text": [
      "313/313 [==============================] - 0s 1ms/step - loss: 0.0273 - accuracy: 0.8677\n"
     ]
    },
    {
     "data": {
      "text/plain": [
       "[0.02725209668278694, 0.8676999807357788]"
      ]
     },
     "execution_count": 25,
     "metadata": {
      "tags": []
     },
     "output_type": "execute_result"
    }
   ],
   "source": [
    "model.evaluate(X_valid, y_valid)"
   ]
  },
  {
   "cell_type": "markdown",
   "metadata": {
    "id": "gCXSKe5ONZ3H"
   },
   "source": [
    "#### Performing inference"
   ]
  },
  {
   "cell_type": "code",
   "execution_count": 26,
   "metadata": {
    "executionInfo": {
     "elapsed": 288543,
     "status": "ok",
     "timestamp": 1617715068233,
     "user": {
      "displayName": "Steele Russell",
      "photoUrl": "https://lh3.googleusercontent.com/a-/AOh14GgDAWJJ1_t0KxSDz4AP23E7GOs608xo6StSUqoF=s64",
      "userId": "00642755971909510180"
     },
     "user_tz": 300
    },
    "id": "kAPmqfPVNZ3I"
   },
   "outputs": [],
   "source": [
    "valid_0 = X_valid[0].reshape(1, 784)"
   ]
  },
  {
   "cell_type": "code",
   "execution_count": 27,
   "metadata": {
    "colab": {
     "base_uri": "https://localhost:8080/"
    },
    "executionInfo": {
     "elapsed": 288618,
     "status": "ok",
     "timestamp": 1617715068311,
     "user": {
      "displayName": "Steele Russell",
      "photoUrl": "https://lh3.googleusercontent.com/a-/AOh14GgDAWJJ1_t0KxSDz4AP23E7GOs608xo6StSUqoF=s64",
      "userId": "00642755971909510180"
     },
     "user_tz": 300
    },
    "id": "0fdswkfSNZ3I",
    "outputId": "b5410608-53e6-4938-b4e5-d40346bf9b24"
   },
   "outputs": [
    {
     "data": {
      "text/plain": [
       "array([[4.2893384e-03, 1.8505112e-03, 2.3022650e-03, 7.5446190e-03,\n",
       "        4.8252135e-03, 7.7640968e-03, 3.3009681e-04, 9.2715919e-01,\n",
       "        5.7379273e-03, 3.8196657e-02]], dtype=float32)"
      ]
     },
     "execution_count": 27,
     "metadata": {
      "tags": []
     },
     "output_type": "execute_result"
    }
   ],
   "source": [
    "model.predict(valid_0)"
   ]
  },
  {
   "cell_type": "code",
   "execution_count": 28,
   "metadata": {
    "colab": {
     "base_uri": "https://localhost:8080/"
    },
    "executionInfo": {
     "elapsed": 288700,
     "status": "ok",
     "timestamp": 1617715068396,
     "user": {
      "displayName": "Steele Russell",
      "photoUrl": "https://lh3.googleusercontent.com/a-/AOh14GgDAWJJ1_t0KxSDz4AP23E7GOs608xo6StSUqoF=s64",
      "userId": "00642755971909510180"
     },
     "user_tz": 300
    },
    "id": "lPVAdNuNNZ3I",
    "outputId": "bcb35f75-fc69-483a-a2ce-86f52fe0ce4e"
   },
   "outputs": [
    {
     "name": "stderr",
     "output_type": "stream",
     "text": [
      "/usr/local/lib/python3.7/dist-packages/tensorflow/python/keras/engine/sequential.py:450: UserWarning: `model.predict_classes()` is deprecated and will be removed after 2021-01-01. Please use instead:* `np.argmax(model.predict(x), axis=-1)`,   if your model does multi-class classification   (e.g. if it uses a `softmax` last-layer activation).* `(model.predict(x) > 0.5).astype(\"int32\")`,   if your model does binary classification   (e.g. if it uses a `sigmoid` last-layer activation).\n",
      "  warnings.warn('`model.predict_classes()` is deprecated and '\n"
     ]
    },
    {
     "data": {
      "text/plain": [
       "array([7])"
      ]
     },
     "execution_count": 28,
     "metadata": {
      "tags": []
     },
     "output_type": "execute_result"
    }
   ],
   "source": [
    "model.predict_classes(valid_0)"
   ]
  },
  {
   "cell_type": "code",
   "execution_count": 28,
   "metadata": {
    "executionInfo": {
     "elapsed": 288697,
     "status": "ok",
     "timestamp": 1617715068397,
     "user": {
      "displayName": "Steele Russell",
      "photoUrl": "https://lh3.googleusercontent.com/a-/AOh14GgDAWJJ1_t0KxSDz4AP23E7GOs608xo6StSUqoF=s64",
      "userId": "00642755971909510180"
     },
     "user_tz": 300
    },
    "id": "S7fO11XqNZ3I"
   },
   "outputs": [],
   "source": []
  }
 ],
 "metadata": {
  "colab": {
   "name": "Copy of shallow_net_in_tensorflow.ipynb",
   "provenance": [
    {
     "file_id": "https://github.com/jonkrohn/DLTFpT/blob/master/notebooks/shallow_net_in_tensorflow.ipynb",
     "timestamp": 1617681190181
    }
   ]
  },
  "kernelspec": {
   "display_name": "Python 3",
   "language": "python",
   "name": "python3"
  },
  "language_info": {
   "codemirror_mode": {
    "name": "ipython",
    "version": 3
   },
   "file_extension": ".py",
   "mimetype": "text/x-python",
   "name": "python",
   "nbconvert_exporter": "python",
   "pygments_lexer": "ipython3",
   "version": "3.7.6"
  }
 },
 "nbformat": 4,
 "nbformat_minor": 1
}
